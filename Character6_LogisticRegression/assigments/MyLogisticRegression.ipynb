{
 "cells": [
  {
   "cell_type": "markdown",
   "metadata": {},
   "source": [
    "## 基于梯度下降的逻辑回归\n",
    "> 问题描述：\n",
    ">> 已知训练数据集D， 其正实例点(Y=1)是x1=(3,3,3), x2=(4,3,2), x3=(2,1,2), 负实例点(Y=0)是x4=(1,1,1), x5=(-1,0,1),x6=(2,-2,1)<br>\n",
    "\n",
    ">用Python自编程实现逻辑回归模型，对点(1,2,-2)进行分类<br>\n",
    ">\n",
    "> 分为下面几部分：\n",
    ">> 1. 导入包<br>\n",
    "2. 可视化结果<br>\n",
    "3. 定义逻辑回归类<br>\n",
    "4. 主函数\n",
    ">\n",
    "> 逻辑回归中的训练模型方法： 用了梯度下降和随机梯度下降<br>\n",
    "> PS: 梯度下降类似于向量化版本，而随机梯度下降是选样本，一个个的进行梯度下降处理"
   ]
  },
  {
   "cell_type": "markdown",
   "metadata": {},
   "source": [
    "## 1. 导入包"
   ]
  },
  {
   "cell_type": "code",
   "execution_count": 2,
   "metadata": {},
   "outputs": [],
   "source": [
    "import numpy as np\n",
    "import time\n",
    "import matplotlib.pyplot as plt\n",
    "from mpl_toolkits.mplot3d import Axes3D\n",
    "plt.rcParams['font.sans-serif'] = ['SimHei']   # 用来显示中文标签\n",
    "plt.rcParams['axes.unicode_minus'] = False   # 用来正常显示负号"
   ]
  },
  {
   "cell_type": "markdown",
   "metadata": {},
   "source": [
    "## 2. 图像可视化函数\n",
    "> 可视化分离平面和分类结果"
   ]
  },
  {
   "cell_type": "code",
   "execution_count": 37,
   "metadata": {},
   "outputs": [],
   "source": [
    "def visual_result(X, y, w, X_new):\n",
    "    \n",
    "    # 分离正负实例点\n",
    "    y = y[0]\n",
    "    X_po = X[np.where(y==1)]\n",
    "    X_ne = X[np.where(y==0)]\n",
    "    \n",
    "    # 绘制数据集散点图\n",
    "    ax = plt.axes(projection='3d')\n",
    "    x_1 = X_po[0, :]\n",
    "    y_1 = X_po[1, :]\n",
    "    z_1 = X_po[2, :]\n",
    "    x_2 = X_ne[0, :]\n",
    "    y_2 = X_ne[1, :]\n",
    "    z_2 = X_ne[2, :]\n",
    "    x, y, z = X_new[0, :]\n",
    "    ax.scatter(x_1, y_1, z_1, c=\"r\", label=\"正实例\")\n",
    "    ax.scatter(x_2, y_2, z_2, c=\"b\", label=\"负实例\")\n",
    "    ax.scatter(x,y, z,  c=\"g\", label=\"测试样本\")\n",
    "    ax.legend(loc='best')\n",
    "    \n",
    "    # 绘制p=0.5的区分平面\n",
    "    x = np.linspace(-3, 3, 3)\n",
    "    y = np.linspace(-3, 3, 3)\n",
    "    x_3, y_3 = np.meshgrid(x, y)\n",
    "    a, b, c, d = w[0]\n",
    "    z_3 = -(a*x_3+b*y_3+d) / c\n",
    "    ax.plot_surface(x_3, y_3, z_3, alpha=0.5)      # 调节透明度\n",
    "    plt.show()"
   ]
  },
  {
   "cell_type": "markdown",
   "metadata": {},
   "source": [
    "## 3. 定义逻辑回归类\n",
    "> （1）初始化成员变量<br>\n",
    "（2）数据预处理（原始X末尾加上一列， 该列数值全为1）<br>\n",
    "（3）定义sigmoid函数<br>\n",
    "（4）训练模型函数<br>\n",
    "（5）预测函数<br>\n",
    "（6）定义测试误差函数"
   ]
  },
  {
   "cell_type": "code",
   "execution_count": 47,
   "metadata": {},
   "outputs": [],
   "source": [
    "class LogisticRegression:\n",
    "    \n",
    "   # 初始化成员变量\n",
    "    def __init__(self, learn_rate=0.1, max_iter=10000, tol=1e-2):\n",
    "        self.learn_rate = learn_rate        # 学习率\n",
    "        self.max_iter = max_iter          # 最大迭代次数\n",
    "        self.tol = tol                  # 迭代停止阈值\n",
    "        self.w = None                # 权重\n",
    "    \n",
    "    # 数据预处理\n",
    "    def preprocessing(self,X):\n",
    "        \"\"\"将原始X末尾加上一列， 该列数值全部为1\"\"\"\n",
    "        row = X.shape[0]\n",
    "        y = np.ones(row).reshape(row, 1)\n",
    "        X_prepro = np.hstack((X, y))\n",
    "        return X_prepro\n",
    "    \n",
    "    # 定义sigmoid函数\n",
    "    def sigmoid(self, x):\n",
    "        return 1/(1+np.exp(-x))\n",
    "    \n",
    "    # 训练模型函数\n",
    "    def fit_fullGrad(self, X_train, y_train):\n",
    "        X = self.preprocessing(X_train)\n",
    "        Y = y_train.T\n",
    "        # 初始化权重w\n",
    "        self.w = np.array([[0] * X.shape[1]], dtype=np.float)\n",
    "        k = 0\n",
    "        for loop in range(self.max_iter):\n",
    "            # 计算梯度\n",
    "            z = np.dot(X, self.w.T)       \n",
    "            grad = X*(Y-self.sigmoid(z))   # 导数   这里应该是用到了广播\n",
    "            grad = grad.sum(axis=0)\n",
    "            # 利用梯度的绝对值作为迭代终止的条件\n",
    "            if (np.abs(grad) <= self.tol).all():\n",
    "                break\n",
    "            else:\n",
    "                # 更新权重w， 梯度上升求极大值\n",
    "                self.w += self.learn_rate*grad\n",
    "                k += 1\n",
    "        print(\"迭代次数： {}次\".format(k))\n",
    "        print(\"最终梯度：{}\".format(grad))\n",
    "        print(\"最终权重：{}\".format(self.w[0]))\n",
    "    \n",
    "    def fit_SGD(self,X_train,y_train):\n",
    "        X=self.preprocessing(X_train)\n",
    "        y=y_train.T\n",
    "        #初始化权重w\n",
    "        self.w=np.array([[0]*X.shape[1]],dtype=np.float)\n",
    "        i=0\n",
    "        k=0\n",
    "        for loop in range(self.max_iter):\n",
    "            # 计算梯度\n",
    "            z=np.dot(X[i],self.w.T)\n",
    "            grad=X[i]*(y[i]-self.sigmoid(z))       # 这个是一个训练样本一个的取改变w的值\n",
    "            # 利用梯度的绝对值作为迭代中止的条件\n",
    "            if (np.abs(grad)<=self.tol).all():\n",
    "                break\n",
    "            else:\n",
    "                # 更新权重w 梯度上升——求极大值\n",
    "                self.w+=self.learn_rate*grad\n",
    "                k+=1\n",
    "                i=(i+1)%X.shape[0]\n",
    "        print(\"迭代次数：{}次\".format(k))\n",
    "        print(\"最终梯度：{}\".format(grad))\n",
    "        print(\"最终权重：{}\".format(self.w[0]))\n",
    "        \n",
    "    # 预测函数\n",
    "    def predict(self, x):\n",
    "        p = self.sigmoid(np.dot(self.preprocessing(x), self.w.T))\n",
    "        print(\"Y=1的概率估计为：{:.2%}\".format(p[0][0]))    # 调用score时，注释掉\n",
    "        p[np.where(p>0.5)] = 1\n",
    "        p[np.where(p<0.5)] = 0\n",
    "        return p\n",
    "    \n",
    "    # 定义误差函数\n",
    "    def score(self, X, y):\n",
    "        y_c = self.predict(X)\n",
    "        error_rate = np.sum(np.abs(y_c-y.T)) / y_c.shape[0]\n",
    "        return 1-error_rate"
   ]
  },
  {
   "cell_type": "markdown",
   "metadata": {},
   "source": [
    "## 4. 主函数\n",
    "> （1）构造数据集<br>\n",
    "（2）定义逻辑回归对象<br>\n",
    "（3）对模型训练和预测<br>\n",
    "（4）可视化结果"
   ]
  },
  {
   "cell_type": "code",
   "execution_count": 53,
   "metadata": {
    "collapsed": true
   },
   "outputs": [],
   "source": [
    "def main():\n",
    "    star = time.time()\n",
    "    \n",
    "    # 构造数据集\n",
    "    X_train=np.array([[3,3,3],[4,3,2],[2,1,2],[1,1,1],[-1,0,1],[2,-2,1]])\n",
    "    y_train=np.array([[1,1,1,0,0,0]])\n",
    "    \n",
    "    # 构建实例，进行训练\n",
    "    clf=LogisticRegression()\n",
    "#     clf.fit_fullGrad(X_train,y_train)\n",
    "    clf.fit_SGD(X_train, y_train)\n",
    "    \n",
    "    # 预测新数据\n",
    "    X_new=np.array([[1,2,-2]])\n",
    "    y_predict=clf.predict(X_new)\n",
    "    print(\"{}被分类为：{}\".format(X_new[0],y_predict[0]))\n",
    "    \n",
    "    # 可视化结果\n",
    "    visual_result(X_train,y_train, clf.w, X_new)\n",
    "    # 利用已有数据对训练模型进行评价\n",
    "    # X_test=X_train\n",
    "    # y_test=y_train\n",
    "    # correct_rate=clf.score(X_test,y_test)\n",
    "    # print(\"共测试{}组数据，正确率：{:.2%}\".format(X_test.shape[0],correct_rate))\n",
    "    end=time.time()\n",
    "    print(\"用时：{:.3f}s\".format(end-star))"
   ]
  },
  {
   "cell_type": "code",
   "execution_count": 54,
   "metadata": {},
   "outputs": [
    {
     "name": "stdout",
     "output_type": "stream",
     "text": [
      "迭代次数：589次\n",
      "最终梯度：[ 0.00993294  0.00744971  0.00496647  0.00248324]\n",
      "最终权重：[ 1.28616715  1.18411508  0.35658199 -3.41447129]\n",
      "Y=1的概率估计为：38.39%\n",
      "[ 1  2 -2]被分类为：[ 0.]\n"
     ]
    },
    {
     "data": {
      "image/png": "[encoded data removed]",
      "text/plain": [
       "<matplotlib.figure.Figure at 0x18539040cc0>"
      ]
     },
     "metadata": {},
     "output_type": "display_data"
    },
    {
     "name": "stdout",
     "output_type": "stream",
     "text": [
      "用时：0.125s\n"
     ]
    }
   ],
   "source": [
    "if __name__ == \"__main__\":\n",
    "    main()"
   ]
  }
 ],
 "metadata": {
  "kernelspec": {
   "display_name": "Python 3",
   "language": "python",
   "name": "python3"
  },
  "language_info": {
   "codemirror_mode": {
    "name": "ipython",
    "version": 3
   },
   "file_extension": ".py",
   "mimetype": "text/x-python",
   "name": "python",
   "nbconvert_exporter": "python",
   "pygments_lexer": "ipython3",
   "version": "3.6.3"
  }
 },
 "nbformat": 4,
 "nbformat_minor": 2
}

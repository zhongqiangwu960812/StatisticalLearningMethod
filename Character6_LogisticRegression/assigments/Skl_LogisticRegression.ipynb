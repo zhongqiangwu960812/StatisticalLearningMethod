{
 "cells": [
  {
   "cell_type": "markdown",
   "metadata": {},
   "source": [
    "## 调用sklearn模块实现逻辑回归\n",
    "> 问题描述：\n",
    ">> 已知训练数据集D， 其正实例点(Y=1)是x1=(3,3,3), x2=(4,3,2), x3=(2,1,2), 负实例点(Y=0)是x4=(1,1,1), x5=(-1,0,1),x6=(2,-2,1)<br>\n",
    "\n",
    ">调用sklearn模块实现逻辑回归模型，对点(1,2,-2)进行分类<br>\n",
    ">\n",
    "> 分为下面几部分：\n",
    ">> 1. 导入包<br>\n",
    "2. 主函数\n",
    ">\n",
    "> 主要学习逻辑回归的相关参数和应用场景"
   ]
  },
  {
   "cell_type": "markdown",
   "metadata": {},
   "source": [
    "## 1. 导入包"
   ]
  },
  {
   "cell_type": "code",
   "execution_count": 3,
   "metadata": {
    "collapsed": true
   },
   "outputs": [],
   "source": [
    "import numpy as np\n",
    "from sklearn.linear_model import LogisticRegression"
   ]
  },
  {
   "cell_type": "markdown",
   "metadata": {},
   "source": [
    "## 2. 主函数\n",
    ">（1）构造数据集<br>\n",
    "（2）定义逻辑回归模型<br>\n",
    "（3）对模型训练和预测"
   ]
  },
  {
   "cell_type": "code",
   "execution_count": 5,
   "metadata": {
    "collapsed": true
   },
   "outputs": [],
   "source": [
    "def main():\n",
    "    # 训练数据集\n",
    "    X_train=np.array([[3,3,3],[4,3,2],[2,1,2],[1,1,1],[-1,0,1],[2,-2,1]])\n",
    "    y_train=np.array([1,1,1,0,0,0])\n",
    "    # 选择不同solver,构建实例，进行训练、测试\n",
    "    methodes=[\"liblinear\",\"newton-cg\",\"lbfgs\",\"sag\",\"saga\"]\n",
    "    res=[]\n",
    "    X_new = np.array([[1, 2, -2]])\n",
    "    for method in methodes:\n",
    "        clf=LogisticRegression(solver=method,intercept_scaling=2,max_iter=1000)\n",
    "        clf.fit(X_train,y_train)\n",
    "        # 预测新数据\n",
    "        y_predict=clf.predict(X_new)\n",
    "        #利用已有数据对训练模型进行评价\n",
    "        X_test=X_train\n",
    "        y_test=y_train\n",
    "        correct_rate=clf.score(X_test,y_test)\n",
    "        res.append((y_predict,correct_rate))\n",
    "\n",
    "    # 格式化输出\n",
    "    methodes=[\"liblinear\",\"newton-cg\",\"lbfgs    \",\"sag      \",\"saga      \"]\n",
    "    print(\"solver选择：          {}\".format(\"  \".join(method for method in methodes)))\n",
    "    print(\"{}被分类为：  {}\".format(X_new[0],\"        \".join(str(re[0]) for re in res)))\n",
    "    print(\"测试{}组数据，正确率： {}\".format(X_train.shape[0],\"        \".join(str(round(re[1],1)) for re in res)))"
   ]
  },
  {
   "cell_type": "code",
   "execution_count": 6,
   "metadata": {
    "scrolled": true
   },
   "outputs": [
    {
     "name": "stdout",
     "output_type": "stream",
     "text": [
      "solver选择：          liblinear  newton-cg  lbfgs      sag        saga      \n",
      "[ 1  2 -2]被分类为：  [0]        [0]        [0]        [0]        [0]\n",
      "测试6组数据，正确率： 1.0        1.0        1.0        1.0        1.0\n"
     ]
    }
   ],
   "source": [
    "if __name__==\"__main__\":\n",
    "    main()"
   ]
  },
  {
   "cell_type": "markdown",
   "metadata": {},
   "source": [
    "## 3. 总结回顾\n",
    ">调用sklearn包里面的逻辑回归模型进行了简单的数据分类， 参数和方法是学习的重点\n",
    "> 具体的参考笔记：http://note.youdao.com/noteshare?id=8d765d50f0bc6789138172bb59a301a9&sub=C44B738FF93041DC9650A67483E93459"
   ]
  }
 ],
 "metadata": {
  "kernelspec": {
   "display_name": "Python 3",
   "language": "python",
   "name": "python3"
  },
  "language_info": {
   "codemirror_mode": {
    "name": "ipython",
    "version": 3
   },
   "file_extension": ".py",
   "mimetype": "text/x-python",
   "name": "python",
   "nbconvert_exporter": "python",
   "pygments_lexer": "ipython3",
   "version": "3.6.3"
  }
 },
 "nbformat": 4,
 "nbformat_minor": 2
}

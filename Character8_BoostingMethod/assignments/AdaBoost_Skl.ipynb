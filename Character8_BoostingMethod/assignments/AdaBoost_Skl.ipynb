{
 "cells": [
  {
   "cell_type": "markdown",
   "metadata": {},
   "source": [
    "## 基于sklearn包实现AdaBoost：\n",
    "> 问题描述：某公司招聘职员考查身体、业务能力、发展潜力这3项。 身体分为合格1、不合格0两级。 业务能力和发展潜力分为上1、中2、下3三级。分类合格为1、不合格-1两类。 已知10个人的数据，如下表。 假设弱分类器为决策树桩。 试用AdaBoost算法学习一个强分类器。\n",
    ">>| 0 | 1 | 2 | 3 | 4 | 5 | 6 | 7 | 8 | 9 | 10 |\n",
    ":-: | :-: | :-: | :-: | :-: | :-: | :-: | :-: | :-: | :-: | :-: \n",
    "身体 | 0 | 0 | 1 | 1 | 1 | 0 | 1 | 1 | 1 | 0 | \n",
    "业务能力 | 1 | 3 | 2 | 1 | 2 | 1 | 1 | 1 | 3 | 2 |\n",
    "发展潜力 | 3 | 1 | 2 | 3 | 3 | 2 | 2 | 1 | 1 | 1 |\n",
    "分类 | -1 | -1 | -1 | -1 | -1 | -1 | 1 | 1 | -1 | -1 |\n",
    ">"
   ]
  },
  {
   "cell_type": "code",
   "execution_count": null,
   "metadata": {},
   "outputs": [],
   "source": [
    "# 导入包\n",
    "\n",
    "import numpy as np\n",
    "import pandas as pd\n",
    "from sklearn.ensemble import AdaBoostClassifier\n",
    "from sklearn.model_selection import cross_val_score\n",
    "\n",
    "# 评估模型\n",
    "from sklearn.metrics import accuracy_score\n",
    "from sklearn.metrics import confusion_matrix\n",
    "from sklearn.metrics import classification_report"
   ]
  },
  {
   "cell_type": "code",
   "execution_count": 1,
   "metadata": {
    "scrolled": true
   },
   "outputs": [
    {
     "name": "stdout",
     "output_type": "stream",
     "text": [
      "原始输出: [-1 -1 -1 -1 -1 -1  1  1 -1 -1]\n",
      "预测输出: [-1 -1 -1 -1 -1 -1  1  1 -1 -1]\n",
      "预测正确率：100.00%\n"
     ]
    }
   ],
   "source": [
    "def main():\n",
    "    # X=np.array([0,1,2,3,4,5,6,7,8,9]).reshape(10,1)\n",
    "    # y=np.array([1,1,1,-1,-1,-1,1,1,1,-1])\n",
    "    X=np.array([[0,1,3],\n",
    "                [0,3,1],\n",
    "                [1,2,2],\n",
    "                [1,1,3],\n",
    "                [1,2,3],\n",
    "                [0,1,2],\n",
    "                [1,1,2],\n",
    "                [1,1,1],\n",
    "                [1,3,1],\n",
    "                [0,2,1]\n",
    "               ])\n",
    "    y=np.array([-1,-1,-1,-1,-1,-1,1,1,-1,-1])\n",
    "    clf=AdaBoostClassifier()\n",
    "    clf.fit(X,y)\n",
    "    y_predict=clf.predict(X)\n",
    "    score=clf.score(X,y)\n",
    "    print(\"原始输出:\",y)\n",
    "    print(\"预测输出:\",y_predict)\n",
    "    print(\"预测正确率：{:.2%}\".format(score))\n",
    "\n",
    "if __name__==\"__main__\":\n",
    "    main()"
   ]
  },
  {
   "cell_type": "markdown",
   "metadata": {},
   "source": [
    "###  下面是基于Python机器学习实战里面的思想\n",
    "> * 把数据放入文件\n",
    "> * 读取数据\n",
    "> * 建立模型，然后评估模型"
   ]
  },
  {
   "cell_type": "code",
   "execution_count": 65,
   "metadata": {},
   "outputs": [
    {
     "name": "stdout",
     "output_type": "stream",
     "text": [
      "[-1 -1 -1 -1 -1 -1  1  1 -1 -1]\n",
      "1.0\n",
      "              precision    recall  f1-score   support\n",
      "\n",
      "          -1       1.00      1.00      1.00         8\n",
      "           1       1.00      1.00      1.00         2\n",
      "\n",
      "    accuracy                           1.00        10\n",
      "   macro avg       1.00      1.00      1.00        10\n",
      "weighted avg       1.00      1.00      1.00        10\n",
      "\n",
      "    -1  1\n",
      "-1   8  0\n",
      "1    0  2\n"
     ]
    }
   ],
   "source": [
    "# 数据事先存在了文件里， 首先获取数据\n",
    "\n",
    "filename = 'dataset.txt'\n",
    "data = []\n",
    "\n",
    "with open(filename, \"r\") as file:\n",
    "    for line in file:\n",
    "        line = line.strip().split(\",\")\n",
    "        data.append(line)\n",
    "\n",
    "dataset =pd.DataFrame(data)\n",
    "dataset = dataset.astype(int)\n",
    "array = dataset.values\n",
    "# print(dataset)\n",
    "\n",
    "# 获取到数据集\n",
    "X = array[:, 0:3]\n",
    "y = array[:,3]\n",
    "# print(X)\n",
    "# print(y)\n",
    "\n",
    "# 创建模型\n",
    "model = AdaBoostClassifier()\n",
    "model.fit(X, y)\n",
    "y_predict = model.predict(X)\n",
    "\n",
    "print(y_predict)\n",
    "\n",
    "# 评估模型\n",
    "\n",
    "error = accuracy_score(y,  y_predict)\n",
    "print(error)\n",
    "print(classification_report(y, y_predict))\n",
    "classes = ['-1', '1']\n",
    "print(pd.DataFrame(confusion_matrix(y, y_predict), index=classes, columns=classes))"
   ]
  }
 ],
 "metadata": {
  "kernelspec": {
   "display_name": "Python 3",
   "language": "python",
   "name": "python3"
  },
  "language_info": {
   "codemirror_mode": {
    "name": "ipython",
    "version": 3
   },
   "file_extension": ".py",
   "mimetype": "text/x-python",
   "name": "python",
   "nbconvert_exporter": "python",
   "pygments_lexer": "ipython3",
   "version": "3.6.8"
  }
 },
 "nbformat": 4,
 "nbformat_minor": 2
}

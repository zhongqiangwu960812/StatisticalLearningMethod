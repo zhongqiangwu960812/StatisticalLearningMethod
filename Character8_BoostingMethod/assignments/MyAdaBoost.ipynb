{
 "cells": [
  {
   "cell_type": "markdown",
   "metadata": {},
   "source": [
    "## 自编程实现AdaBoost算法：\n",
    "> 问题描述：某公司招聘职员考查身体、业务能力、发展潜力这3项。 身体分为合格1、不合格0两级。 业务能力和发展潜力分为上1、中2、下3三级。分类合格为1、不合格-1两类。 已知10个人的数据，如下表。 假设弱分类器为决策树桩。 试用AdaBoost算法学习一个强分类器。\n",
    ">>| 0 | 1 | 2 | 3 | 4 | 5 | 6 | 7 | 8 | 9 | 10 |\n",
    ":-: | :-: | :-: | :-: | :-: | :-: | :-: | :-: | :-: | :-: | :-: \n",
    "身体 | 0 | 0 | 1 | 1 | 1 | 0 | 1 | 1 | 1 | 0 | \n",
    "业务能力 | 1 | 3 | 2 | 1 | 2 | 1 | 1 | 1 | 3 | 2 |\n",
    "发展潜力 | 3 | 1 | 2 | 3 | 3 | 2 | 2 | 1 | 1 | 1 |\n",
    "分类 | -1 | -1 | -1 | -1 | -1 | -1 | 1 | 1 | -1 | -1 |\n",
    ">\n",
    "> 问题分析：  \n",
    ">> * 初始化样本权值w\n",
    ">> * 求第一个弱分类器G1： 找到使加权分类误差率最低的阈值v\n",
    ">> * 根据分类误差率计算G1的系数α1\n",
    ">> * α1G1+α2G2对训练数据进行训练\n",
    ">>> * 如果分类误差率在可接受范围内，迭代停止\n",
    ">>> * 如果分类误差率不可接受，更新样本权值w， 进行下一次迭代"
   ]
  },
  {
   "cell_type": "code",
   "execution_count": 1,
   "metadata": {},
   "outputs": [],
   "source": [
    "# 导入包\n",
    "import numpy as np"
   ]
  },
  {
   "cell_type": "markdown",
   "metadata": {},
   "source": [
    "## 2 构建AdaBoost分类器 "
   ]
  },
  {
   "cell_type": "code",
   "execution_count": 3,
   "metadata": {},
   "outputs": [],
   "source": [
    "class AdaBoost:\n",
    "    def __init__(self,X,y,tol=0.05,max_iter=10):\n",
    "        self.X=X   # 训练数据 实例\n",
    "        self.y=y   # 训练数据 标签\n",
    "        self.tol=tol # 训练中止条件 right_rate>self.tol\n",
    "        self.max_iter=max_iter # 最大迭代次数\n",
    "        self.w=np.full((X.shape[0]),1/X.shape[0]) #初始化样本权重w   由于开始的时候，假设各个训练样本在每个分类器中的作用相同，权重相同\n",
    "        self.alpha=[]  # 弱分类器权重\n",
    "        self.G=[] # 弱分类器\n",
    "        self.min_v=min(X)-0.5 #分类阈值下界\n",
    "        self.max_v=max(X)+0.5 #分类阈值上界\n",
    "\n",
    "    def _class(self):\n",
    "        \"\"\"以带权重的分类误差最小为目标，选择最佳分类阈值\"\"\"\n",
    "        e_min=np.inf   # e_min 分类误差\n",
    "        v_best=None    # v_best 最佳分类阈值\n",
    "        sign=None      # sign 小于分类阈值的样本属于的标签类别\n",
    "        for v in np.arange(self.min_v,self.max_v+0.5,1):\n",
    "            # 遍历可能v_best可取值，寻找最优解\n",
    "            e_1=-(self.y[self.X<v]-1)*self.w[self.X<v] # 假设小于阈值 分类为1 获取分类加权误差 * 2 本来<v分类正确的话y是1，这时候1-1是0，分类错误是-1， 这时候-1-1是-2， 乘以相应的权重\n",
    "            e_2=(self.y[self.X>v]+1)*self.w[self.X>v]  # 假设大于阈值 分类为-1 获取分类误差*2 这个和上面那个同理\n",
    "            e=(e_1.sum()+e_2.sum())/2  # 计算整个分类误差\n",
    "            if e<0.5:   # 若分类误差小于0.5 说明X<v y->1    ？？？\n",
    "                flag=1\n",
    "            else:       # 若分类误差大于0.5 取其反向 说明X<v y->-1\n",
    "                e=1-e\n",
    "                flag=-1\n",
    "            if e<e_min: # 保留最优解\n",
    "                e_min=e\n",
    "                sign=flag\n",
    "                v_best=v\n",
    "        return v_best,sign,e_min\n",
    "\n",
    "    def updata_w(self):\n",
    "        \"\"\"更新样本权重w\"\"\"\n",
    "        v,sign=self.G[-1]  # 以下2行 根据上一轮的弱分类器更新样本权重\n",
    "        alpha=self.alpha[-1]\n",
    "        G=np.zeros(self.y.size,dtype=int) # 以下三行重建弱分类器\n",
    "        G[self.X<v]=sign\n",
    "        G[self.X>v]=-sign\n",
    "        # G_1=np.full((np.where(self.X<v))[0].shape[0],sign)\n",
    "        # G_2=np.full((np.where(self.X>v))[0].shape[0],-sign)\n",
    "        # G=np.hstack([G_1,G_2])\n",
    "        P=self.w*np.exp(-alpha*self.y*G) #以下2行根据公式8.4 8.5 更新样本权重\n",
    "        self.w=P/P.sum()\n",
    "\n",
    "    def base_estimator(self,X,i):\n",
    "        \"\"\"计算单个弱分类器预测输出\"\"\"\n",
    "        v,sign = self.G[i]\n",
    "        _G_1 = np.full((np.where(X<v))[0].shape[0], sign)\n",
    "        _G_2 = np.full((np.where(X>v))[0].shape[0], -sign)\n",
    "        _G = np.hstack([_G_1, _G_2])\n",
    "        return _G\n",
    "\n",
    "    def fit(self):\n",
    "        \"\"\"对训练数据进行学习\"\"\"\n",
    "        G=0\n",
    "        for i in range(self.max_iter):\n",
    "            class_v,sign,e=self._class() # 获取当前迭代最佳分类阈值\n",
    "            alpha=1/2*np.log((1-e)/e)   # 计算本轮弱分类器的系数\n",
    "            self.alpha.append(alpha)    # 保存弱分类器系数\n",
    "            self.G.append((class_v,sign)) # 保存弱分类器\n",
    "            _G=self.base_estimator(self.X,i) # 以下4行计算当前总分类器（之前所有弱分类器加权和）分类效率\n",
    "            G+=alpha*_G\n",
    "            y_predict=np.sign(G)\n",
    "            error_rate=np.sum(np.abs(y_predict-self.y))/2/self.y.shape[0]\n",
    "            if error_rate<self.tol: # 满足中止条件 则跳出循环\n",
    "                print(\"迭代次数:\",i+1)\n",
    "                break\n",
    "            else:\n",
    "                self.updata_w()   # 若不满足，更新权重，继续迭代\n",
    "\n",
    "    def predict(self,X):\n",
    "        \"\"\"对新数据进行预测\"\"\"\n",
    "        G=0\n",
    "        for i in range(len(self.alpha)):\n",
    "            # 遍历每一个弱分类器，进行加权\n",
    "            _G=self.base_estimator(X,i)\n",
    "            alpha = self.alpha[i]\n",
    "            G+=alpha*_G\n",
    "        y_predict=np.sign(G)\n",
    "        return y_predict.astype(int)\n",
    "\n",
    "    def score(self,X,y):\n",
    "        \"\"\"对训练效果进行评价\"\"\"\n",
    "        y_predict=self.predict(X)\n",
    "        error_rate=np.sum(np.abs(y_predict-y))/2/y.shape[0]\n",
    "        return 1-error_rate"
   ]
  },
  {
   "cell_type": "markdown",
   "metadata": {},
   "source": [
    "## 3. 主函数 "
   ]
  },
  {
   "cell_type": "code",
   "execution_count": 2,
   "metadata": {},
   "outputs": [],
   "source": [
    "def main():\n",
    "    X=np.array([0,1,2,3,4,5,6,7,8,9])\n",
    "    y=np.array([1,1,1,-1,-1,-1,1,1,1,-1])\n",
    "    clf=AdaBoost(X,y)\n",
    "    clf.fit()\n",
    "    y_predict=clf.predict(X)\n",
    "    score=clf.score(X,y)\n",
    "    print(\"原始输出:\",y)\n",
    "    print(\"预测输出:\",y_predict)\n",
    "    print(\"预测正确率：{:.2%}\".format(score))"
   ]
  },
  {
   "cell_type": "code",
   "execution_count": 5,
   "metadata": {},
   "outputs": [
    {
     "name": "stdout",
     "output_type": "stream",
     "text": [
      "迭代次数: 3\n",
      "原始输出: [ 1  1  1 -1 -1 -1  1  1  1 -1]\n",
      "预测输出: [ 1  1  1 -1 -1 -1  1  1  1 -1]\n",
      "预测正确率：100.00%\n"
     ]
    }
   ],
   "source": [
    "if __name__ == \"__main__\":\n",
    "    main()"
   ]
  },
  {
   "cell_type": "markdown",
   "metadata": {},
   "source": [
    "## 总结：\n",
    "> 这个实现了课本上的表8.1的例子， 自编程实现的AdaBoost有点繁琐， 在这里先了解原理和基本的过程， 但是要会使用sklearn包里面的集成方法。"
   ]
  },
  {
   "cell_type": "code",
   "execution_count": null,
   "metadata": {},
   "outputs": [],
   "source": []
  }
 ],
 "metadata": {
  "kernelspec": {
   "display_name": "Python 3",
   "language": "python",
   "name": "python3"
  },
  "language_info": {
   "codemirror_mode": {
    "name": "ipython",
    "version": 3
   },
   "file_extension": ".py",
   "mimetype": "text/x-python",
   "name": "python",
   "nbconvert_exporter": "python",
   "pygments_lexer": "ipython3",
   "version": "3.6.8"
  }
 },
 "nbformat": 4,
 "nbformat_minor": 2
}

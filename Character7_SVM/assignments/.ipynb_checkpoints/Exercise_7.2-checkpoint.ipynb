{
 "cells": [
  {
   "cell_type": "markdown",
   "metadata": {},
   "source": [
    "## 支持向量机\n",
    "> 问题描述：\n",
    ">> 已知正实例点x1=(1,2), x2=(2,3), x3=(3,3), 负实例点x4=(2,1), x5=(3,2), <br>\n",
    ">\n",
    ">求最大间隔分离超平面和分类决策函数， 并在图上画出分离超平面、间隔边界及支持向量<br>\n",
    ">\n",
    ">在手算分离超平面的过程中，计算量非常的大，所以尝试通过Python来实现手算分离超平面的过程,回顾一遍思想：\n",
    ">> * 看到原始问题，首先构造拉格朗日函数，形成对偶问题，求对偶问题的解，得到α*\n",
    "在求解过程中，类似数学里面的多元函数求极值问题， 偏导等于0，去求α*，在这里会\n",
    "遇到无解的情况，这时候我们知道，极值点在边界区域，这时候，需要降维，令其中的\n",
    "一个参数等于0， 然后一个个的去试，当然这个题目使用了一个观测法，就是观察点的\n",
    "分布，如果确定一定不是支撑超平面上的点，那么alpha i等于0，这样就少了一个维度\n",
    "如果发现还是无解，那么说明极小值又在边界上，这时候在前面的αi等于0的前提下，还\n",
    "需要降维，领剩下的参数中的一个参数等于0，然后一个个的去试。 这时候就是两个等\n",
    "于0的了，剩下的等式去求， 如果还无解，再al,aj=0的前提下再令其中的一个参数等于0\n",
    "实现降维，最后求得最终的局部解<br>\n",
    ">> <br>\n",
    ">> * 根据这些局部解，一个个带入L函数，求得L值，比较谁最小，就是全局最优解\n",
    ">\n",
    "> 上面的这个思想很重要，一定要了解，下面就用Python编程实现手算的过程，用到了sympy包"
   ]
  },
  {
   "cell_type": "markdown",
   "metadata": {},
   "source": [
    "## 1. 导入要使用的包"
   ]
  },
  {
   "cell_type": "code",
   "execution_count": 3,
   "metadata": {},
   "outputs": [],
   "source": [
    "import numpy as np\n",
    "import matplotlib.pyplot as plt\n",
    "from sympy import *"
   ]
  },
  {
   "cell_type": "markdown",
   "metadata": {},
   "source": [
    "## 2.定义可视化结果的函数"
   ]
  },
  {
   "cell_type": "code",
   "execution_count": 17,
   "metadata": {},
   "outputs": [],
   "source": [
    "\"\"\"绘制样本点、分离超平面和间隔边界\"\"\"\n",
    "def draw(X,y,w,b):\n",
    "    y=np.array([y[i][0] for i in range(y.shape[0])])\n",
    "    X_po=X[np.where(y==1)]\n",
    "    X_ne=X[np.where(y==-1)]\n",
    "    x_1=X_po[:,0]\n",
    "    y_1=X_po[:,1]\n",
    "    x_2=X_ne[:,0]\n",
    "    y_2=X_ne[:,1]\n",
    "    plt.plot(x_1,y_1,\"ro\")\n",
    "    plt.plot(x_2,y_2,\"gx\")\n",
    "    x=np.array([0,3])\n",
    "    y=(-b-w[0]*x)/w[1]\n",
    "    y_po=(1-b-w[0]*x)/w[1]\n",
    "    y_ne=(-1-b-w[0]*x)/w[1]\n",
    "    plt.plot(x,y,\"r-\")\n",
    "    plt.plot(x,y_po,\"b-\")\n",
    "    plt.plot(x,y_ne,\"b-\")\n",
    "    plt.show()"
   ]
  },
  {
   "cell_type": "markdown",
   "metadata": {},
   "source": [
    "## 3. 定义计算过程中用到的一些函数"
   ]
  },
  {
   "cell_type": "code",
   "execution_count": 38,
   "metadata": {},
   "outputs": [],
   "source": [
    "\"\"\"构造L(a,b,c,d)表达式,e=a+b+c-d\"\"\"\n",
    "def creat(co,X,y,a,b,c,d,e):\n",
    "    L_0=co*X*y                              # 这里把双层累加的形式拆开了一下\n",
    "    L_1=L_0.sum(axis=0)           # 乘法分配律思想\n",
    "    L=np.dot(L_1,L_1)/2-co.sum()        # 这就是构造的拉格朗日函数\n",
    "    # 将e=a+b+c-d代入，化简整理\n",
    "    L=expand(L.subs(e,a+b+c-d))          # expand函数，这个函数是把一个根据约束函数的等量关系，把一个变量做了替换,将函数式展开\n",
    "    return L\n",
    "\n",
    "\"\"\"判断方程是否有唯一不小于0且不全为0的实数解\"\"\"\n",
    "def _judge(res):\n",
    "    for s in res.values():\n",
    "        try:\n",
    "            if float(s)<0:\n",
    "                return False\n",
    "        except:\n",
    "            return False\n",
    "    return True if sum(res.values())!=0 else False\n",
    "\n",
    "\n",
    "\"\"\"若L无解，则从L的多个边界求解\"\"\"\n",
    "def _find_submin(L,num):\n",
    "    if num.shape[0]==1:         # num.shape[0] 是变量的个数，如果是1的话就是一维了，没法降维，返回None\n",
    "        return None\n",
    "    else:\n",
    "        res=[]\n",
    "        for i in range(num.shape[0]):      # 遍历所有的维度\n",
    "            L_child=L.subs({num[i]: 0})        # 把该维度的值变成0，去找边缘\n",
    "            num_child=np.delete(num,i,axis=0)    # 这是剩下的参数\n",
    "            res.append(_find_min(L_child,num_child))  #  然后递归， 去找最小值\n",
    "        return res\n",
    "\n",
    "\n",
    "\n",
    "\"\"\"求解所有可能的极值点，若极值不存在或不在可行域内取到，则在边界寻找极值点\"\"\"\n",
    "def _find_min(L,num):\n",
    "    pro_res=[]\n",
    "    res=solve(diff(L,num),list(num))    # solve函数？   这应该是sympy函数里面的，求解线性方程组中的函数\n",
    "                                        # 这里的diff表示，对于L函数，对num这些参数求偏导数，求完之后，得到一个多元方程组\n",
    "                                        # 这里的solve函数，求解多元方程组，返回字典形式\n",
    "    # 方程有解\n",
    "    if res:\n",
    "        # 方程有唯一不小于0且不全为0的实数解\n",
    "        if _judge(res):\n",
    "            pro_res.append(res)\n",
    "            return pro_res\n",
    "        # 方程有无数组解，到子边界寻找极值点\n",
    "        else:\n",
    "            value=_find_submin(L,num)\n",
    "            pro_res.append(value)\n",
    "    #方程无解，到子边界寻找极值点\n",
    "    else:\n",
    "        value=_find_submin(L,num)\n",
    "        pro_res.append(value)\n",
    "    return pro_res\n",
    "\n",
    "\"\"\"将所有结果排列整齐\"\"\"\n",
    "def reset(res):      # 这个res会是一个多维的列表， 我们只需选出里面的字典即可，就是我们的所有结果\n",
    "    if not isinstance(res[0],list):    #  如果不是列表， 就是字典， 这是一个结果的情况\n",
    "        if res[0]:               # 不能是None\n",
    "            res_list.append(res[0])\n",
    "    else:\n",
    "        for i in res:\n",
    "            reset(i)\n",
    "\n",
    "\"\"\"求解极小值点\"\"\"\n",
    "def find_min(L,num,a,b,c,d,e):\n",
    "    # 求解所有可能的极小值点\n",
    "    results=_find_min(L,num)\n",
    "    print(\"重新排列结果之前：\")\n",
    "    print(results)\n",
    "    reset(results)\n",
    "    L_min =float(\"inf\")    #  负无穷\n",
    "    res =None\n",
    "    # 在所有边界最小值中选取使得L(a,b,c,d)最小的点\n",
    "    print(\"重新排列结果之后：\")\n",
    "    print(res_list)\n",
    "    for i in res_list:\n",
    "        d_i=dict()\n",
    "        for j in [a,b,c,d]:\n",
    "            d_i[j]=i.get(j,0)\n",
    "        result=L.subs(d_i)        # subs函数？   解方程组的时候，喂入参数， 可以是字典的形式\n",
    "        if result<L_min:\n",
    "            L_min=result\n",
    "            res=d_i\n",
    "    # 将e 计算出来并添加到res中\n",
    "    res[e]=res[a]+res[b]+res[c]-res[d]\n",
    "    return res\n",
    "\n",
    "\"\"\"计算 w b\"\"\"\n",
    "def calculate_w_b(X,y,res):\n",
    "    alpha=np.array([[i] for i in res.values()])\n",
    "    w=(alpha*X*y).sum(axis=0)\n",
    "    for i in range(alpha.shape[0]):\n",
    "        if alpha[i]:\n",
    "            b=y[i]-w.dot(X[i])\n",
    "            break\n",
    "    return w,b"
   ]
  },
  {
   "cell_type": "markdown",
   "metadata": {},
   "source": [
    "##  4. 定义主函数"
   ]
  },
  {
   "cell_type": "code",
   "execution_count": 30,
   "metadata": {},
   "outputs": [],
   "source": [
    "def main():\n",
    "    # 构建目标函数L(a,b,c,d,e)\n",
    "    a,b,c,d,e=symbols(\"a,b,c,d,e\")             # symbols函数？     定义五个符号\n",
    "    X=np.array([[1,2],\n",
    "                [2,3],\n",
    "                [3,3],\n",
    "                [2,1],\n",
    "                [3,2]])\n",
    "    y=np.array([[1],[1],[1],[-1],[-1]])\n",
    "    co=np.array([[a],[b],[c],[d],[e]]) \n",
    "    L=creat(co,X,y,a,b,c,d,e)             #  creat函数是把原函数化成对偶的形式构造的拉格朗日函数，这里的那个双层累加的处理值得学习\n",
    "    num=np.array([a,b,c,d])\n",
    "    # 求解极小值点\n",
    "    global res_list\n",
    "    res_list=[]\n",
    "    res=find_min(L,num,a,b,c,d,e)\n",
    "    print(\"res = \", res)\n",
    "    # 求w b\n",
    "    w,b=calculate_w_b(X,y,res)\n",
    "    print(\"w\",w)\n",
    "    print(\"b\",b)\n",
    "    # 绘制样本点、分离超平面和间隔边界\n",
    "    draw(X,y,w,b)"
   ]
  },
  {
   "cell_type": "code",
   "execution_count": 39,
   "metadata": {},
   "outputs": [
    {
     "name": "stdout",
     "output_type": "stream",
     "text": [
      "重新排列结果之前：\n",
      "[[[[[[[None], [{c: 2}]]], [{b: 1, d: 0}], [{b: 0, c: 2}]]], [[[[[None], [{c: 2}]]], [{a: 1, d: 1}], [{a: 1/2, c: 2}]]], [[[{b: 1, d: 0}], [{a: 1, d: 1}], [{a: 0, b: 1}]]], [[[{b: 0, c: 2}], [{a: 1/2, c: 2}], [{a: 0, b: 1}]]]]]\n",
      "重新排列结果之后：\n",
      "[{c: 2}, {b: 1, d: 0}, {b: 0, c: 2}, {c: 2}, {a: 1, d: 1}, {a: 1/2, c: 2}, {b: 1, d: 0}, {a: 1, d: 1}, {a: 0, b: 1}, {b: 0, c: 2}, {a: 1/2, c: 2}, {a: 0, b: 1}]\n",
      "res =  {a: 1/2, b: 0, c: 2, d: 0, e: 5/2}\n",
      "w [-1 2]\n",
      "b [-2]\n"
     ]
    },
    {
     "data": {
      "image/png": "[encoded data removed]",
      "text/plain": [
       "<Figure size 432x288 with 1 Axes>"
      ]
     },
     "metadata": {
      "needs_background": "light"
     },
     "output_type": "display_data"
    }
   ],
   "source": [
    "if __name__ == \"__main__\":\n",
    "    main()"
   ]
  },
  {
   "cell_type": "markdown",
   "metadata": {},
   "source": [
    "##  总结与回顾\n",
    "> 这次作业主要是实现了题目的手算过程，通过Python的sympy库，可以很方便的求解方程组，得到最优解，这里回顾一下这个过程：\n",
    ">> 1. 首先，声明一些符号系统，然后构造拉格朗日函数（这个过程的的双加和符号的化简是个技巧）<br>\n",
    ">> 2. 构造完拉个朗日函数之后，就可以去寻找最优解\n",
    ">>> (1)首先，是先求局部最优解_find_min函数去找， 判断标准就是约束规则，方程有唯一不小于0且不全为0的实数解， 这里会用到sympy里面的diff函数和\n",
    "    solve函数，前者是对于拉格朗日函数，先根据传入的参数求偏导等于0， 得到多元线性方程组，后者是在求解线性方程组，得到局部解\n",
    ">>> (2)如果没有，就需要利用上面的思想进行降维，去找边缘_find_submin函数， 这个函数去边界上去找局部解，方法就是，遍历一下参数列表，让其中的\n",
    "    参数等于0， 然后利用剩下的参数去递归_find_min去找局部解，这样形成一个间接递归，直到维度成了1\n",
    ">>> (3)根据局部最优解，先整理获得结果，把结果进行排列reset函数，去掉高维列表，只获得字典， 然后在这里面去寻找全局最优，得到合适的α值\n",
    ">> 3. 根据得到的α值，求出最后的w*,b*\n",
    ">> 4. 可视化，画出分离间隔和支撑间隔\n",
    ">\n",
    "> 关于sympy库，这是个很庞大的科学计算库，可以求极限，微积分，解线性方程组等， 在笔记上做了一个整理：[Sympy基本简介和使用](http://note.youdao.com/noteshare?id=336848bff36e1698fdf36d7c70270a17&sub=2A5A29EBDADB4FE0A4C4219E1CD59152)\n",
    "> \n",
    "关于本次代码的详细分析过程，在笔记上：[支持向量机](http://note.youdao.com/noteshare?id=d50add1394ad30ed2ce4438a93a38ffd&sub=1D7BA8DE2F354111A7B3D58E7FBC7F84)"
   ]
  }
 ],
 "metadata": {
  "kernelspec": {
   "display_name": "Python 3",
   "language": "python",
   "name": "python3"
  },
  "language_info": {
   "codemirror_mode": {
    "name": "ipython",
    "version": 3
   },
   "file_extension": ".py",
   "mimetype": "text/x-python",
   "name": "python",
   "nbconvert_exporter": "python",
   "pygments_lexer": "ipython3",
   "version": "3.6.8"
  }
 },
 "nbformat": 4,
 "nbformat_minor": 2
}

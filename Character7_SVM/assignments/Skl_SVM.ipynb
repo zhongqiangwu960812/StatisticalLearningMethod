{
 "cells": [
  {
   "cell_type": "markdown",
   "metadata": {},
   "source": [
    "## 调用sklearn包实现支持向量机\n",
    "> 问题描述：\n",
    ">> 已知正实例点x1=(1,2), x2=(2,3), x3=(3,3), 负实例点x4=(2,1), x5=(3,2), \n",
    ">\n",
    ">求最大间隔分离超平面和分类决策函数， 并在图上画出分离超平面、间隔边界及支持向量\n",
    ">\n",
    "> 尝试调用sklearn.svm中的SVC模块求解， 尝试改变参数， 如C，kernel，比较结果\n",
    ">\n",
    ">学习使用sklearn.svm"
   ]
  },
  {
   "cell_type": "markdown",
   "metadata": {},
   "source": [
    "## 1. 导入包"
   ]
  },
  {
   "cell_type": "code",
   "execution_count": 2,
   "metadata": {},
   "outputs": [],
   "source": [
    "import numpy as np\n",
    "import matplotlib.pyplot as plt\n",
    "\n",
    "from sklearn.svm import SVC"
   ]
  },
  {
   "cell_type": "markdown",
   "metadata": {},
   "source": [
    "## 2. 可视化结果函数"
   ]
  },
  {
   "cell_type": "code",
   "execution_count": 3,
   "metadata": {},
   "outputs": [],
   "source": [
    "def draw(X,y,w,b):\n",
    "    y=np.array([y[i] for i in range(y.shape[0])])\n",
    "    X_po=X[np.where(y==1)]\n",
    "    X_ne=X[np.where(y==-1)]\n",
    "    x_1=X_po[:,0]\n",
    "    y_1=X_po[:,1]\n",
    "    x_2=X_ne[:,0]\n",
    "    y_2=X_ne[:,1]\n",
    "    plt.plot(x_1,y_1,\"ro\")\n",
    "    plt.plot(x_2,y_2,\"gx\")\n",
    "    x=np.array([0,3])\n",
    "    y=(-b-w[0]*x)/w[1]\n",
    "    y_po=(1-b-w[0]*x)/w[1]\n",
    "    y_ne=(-1-b-w[0]*x)/w[1]\n",
    "    plt.plot(x,y,\"r-\")\n",
    "    plt.plot(x,y_po,\"b-\")\n",
    "    plt.plot(x,y_ne,\"b-\")\n",
    "    plt.show()"
   ]
  },
  {
   "cell_type": "markdown",
   "metadata": {},
   "source": [
    "##  3. 定义主函数"
   ]
  },
  {
   "cell_type": "code",
   "execution_count": 20,
   "metadata": {},
   "outputs": [],
   "source": [
    "def main():\n",
    "    X=np.array([[1,2],\n",
    "                [2,3],\n",
    "                [3,3],\n",
    "                [2,1],\n",
    "                [3,2]])\n",
    "    y=np.array([1,1,1,-1,-1])\n",
    "    clf=SVC(C=100,kernel=\"linear\")\n",
    "    clf.fit(X,y)\n",
    "    w=clf.coef_[0]\n",
    "    b=clf.intercept_\n",
    "    print(\"support_vectors: \")\n",
    "    print(clf.support_vectors_)\n",
    "    print(\"w={}\\nb={}\".format(w,b))\n",
    "    print(clf.predict([[5,6],[-1,-1]]))\n",
    "    print(clf.score(X,y))\n",
    "    draw(X,y,w,b)"
   ]
  },
  {
   "cell_type": "code",
   "execution_count": 21,
   "metadata": {},
   "outputs": [
    {
     "name": "stdout",
     "output_type": "stream",
     "text": [
      "support_vectors: \n",
      "[[3. 2.]\n",
      " [1. 2.]\n",
      " [3. 3.]]\n",
      "w=[-1.  2.]\n",
      "b=[-2.]\n",
      "[ 1 -1]\n",
      "1.0\n"
     ]
    },
    {
     "data": {
      "image/png": "[encoded data removed]",
      "text/plain": [
       "<Figure size 432x288 with 1 Axes>"
      ]
     },
     "metadata": {
      "needs_background": "light"
     },
     "output_type": "display_data"
    }
   ],
   "source": [
    "if __name__==\"__main__\":\n",
    "    main()"
   ]
  },
  {
   "cell_type": "markdown",
   "metadata": {},
   "source": [
    "## 回顾与总结：\n",
    ">sklearn.svm.SVC支持向量机模块是比较重要的一个模块， 里面的函数参数，属性参数和方法很多，具体介绍见我的笔记\n",
    "[支持向量机](http://note.youdao.com/noteshare?id=d50add1394ad30ed2ce4438a93a38ffd&sub=1D7BA8DE2F354111A7B3D58E7FBC7F84)\n",
    "> \n",
    "> 在这里讨论一下这个C这个参数： \n",
    ">>这是个错误惩罚系数。<br>\n",
    ">>* C越大，即对分错样本的惩罚程度越大，因此在训练样本中准确率越高，但是泛化能力降低，也就是对测试数据的分类准确率降低。\n",
    ">>* 减小C的话，容许训练样本中有一些误分类错误样本，泛化能力强。对于训练样本带有噪声的情况，\n",
    ">>* 一般采用后者，把训练样本集中错误分类的样本作为噪声。\n",
    ">>* 这个值的具体，需要通过交叉验证去尝试来确定合适的值"
   ]
  }
 ],
 "metadata": {
  "kernelspec": {
   "display_name": "Python 3",
   "language": "python",
   "name": "python3"
  },
  "language_info": {
   "codemirror_mode": {
    "name": "ipython",
    "version": 3
   },
   "file_extension": ".py",
   "mimetype": "text/x-python",
   "name": "python",
   "nbconvert_exporter": "python",
   "pygments_lexer": "ipython3",
   "version": "3.6.8"
  }
 },
 "nbformat": 4,
 "nbformat_minor": 2
}

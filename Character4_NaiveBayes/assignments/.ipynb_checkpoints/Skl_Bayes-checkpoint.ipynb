{
 "cells": [
  {
   "cell_type": "markdown",
   "metadata": {},
   "source": [
    "## 基于sklearn包调用贝叶斯算法\n",
    "> 问题描述：取λ=0.2. 由下表训练数据， 利用先验概率的贝叶斯估计确定X=(2, S)的类标记y。 表中x^(1), x^(2)为特征， 取值的集合分别为A1={1,2,3}\n",
    "A2={S,M,L} Y为类标签 属于{1,-1}\n",
    ">>| 1 | 2 | 3 | 4 | 5 | 6 | 7 | 8 | 9 | 10 | 11 | 12 | 13 | 14 | 15 | \n",
    ":-: | :-: | :-: | :-: | :-: | :-: | :-: | :-: | :-: | :-: | :-: | :-: | :-: | :-: | :-: \n",
    "x^(1) | 1 | 1 | 1 | 1 | 1 | 2 | 2 | 2 | 2 | 2 | 3 | 3 | 3 | 3 | 3 |\n",
    "x^(2) | S | M | M | S | S | S | M | M | L | L | L | M | M | L | L |\n",
    "Y | -1 | -1 | 1 | 1 | -1 | -1 | -1 | 1 | 1 | 1 | 1 | 1 | 1 | 1 | -1 |\n",
    ">\n",
    ">\n",
    "> 从sklearn.naive_bayes包里面调入了GaussianNB,BernoulliNB,MultinomialNB， 去估计测试集的列标签\n",
    ">>* GaussianNB  &emsp;高斯分布   &emsp;应用于连续变量（如人的身高）<br>\n",
    "* MultinomialNB &emsp; 多项分布 &emsp; 离散变量（如男女）<br>\n",
    "* BernoulliNB &emsp; 伯努利分布 &emsp; Xi只能取（0，1）\n",
    ">\n",
    "> 重点： 这里根据问题，适合用MultinomialNB， 所以参数和方法要知道，并且学一些数据预处理的技巧（one-hot）"
   ]
  },
  {
   "cell_type": "markdown",
   "metadata": {},
   "source": [
    "## 1. 导入包"
   ]
  },
  {
   "cell_type": "code",
   "execution_count": 1,
   "metadata": {
    "collapsed": true
   },
   "outputs": [],
   "source": [
    "import numpy as np\n",
    "from sklearn.naive_bayes import GaussianNB, BernoulliNB, MultinomialNB\n",
    "from sklearn import preprocessing # 预处理"
   ]
  },
  {
   "cell_type": "markdown",
   "metadata": {},
   "source": [
    "## 2. 主函数\n",
    "> 步骤：\n",
    ">> a. 构造数据集并进行数据预处理，转为one-hot向量<br>\n",
    "b. 构造贝叶斯模型进行训练<br>\n",
    "c. 在测试集上进行测试<br>"
   ]
  },
  {
   "cell_type": "code",
   "execution_count": 70,
   "metadata": {
    "collapsed": true
   },
   "outputs": [],
   "source": [
    "def main():\n",
    "    \n",
    "    # 构造数据集集并进行数据预处理(one-hot)\n",
    "    data = np.array([\n",
    "                      [1,\"S\"],\n",
    "                      [1,\"M\"],\n",
    "                      [1,\"M\"],\n",
    "                      [1,\"S\"],\n",
    "                      [1,\"S\"],\n",
    "                      [2,\"S\"],\n",
    "                      [2,\"M\"],\n",
    "                      [2,\"M\"],\n",
    "                      [2,\"L\"],\n",
    "                      [2,\"L\"],\n",
    "                      [3,\"L\"],\n",
    "                      [3,\"M\"],\n",
    "                      [3,\"M\"],\n",
    "                      [3,\"L\"],\n",
    "                      [3,\"L\"],\n",
    "                      [2,\"S\"]\n",
    "                    ])\n",
    "    new_data = data.copy()           # 生成一份拷贝\n",
    "    le = preprocessing.LabelEncoder()      # 对new_data进行以下标签转换，上面的字符串类型的数据要转换成整数后面才能用OneHot\n",
    "    le.fit(new_data[:,1])\n",
    "    new_data[:, 1] = le.transform(new_data[:,1])   \n",
    "    enc = preprocessing.OneHotEncoder()    # 这里进行one-hot编码\n",
    "    enc.fit(new_data)\n",
    "    new_data = enc.transform(new_data).toarray()\n",
    "    #print(data)\n",
    "    X_train = new_data[:-1, :]    # 取前15行，作为训练集 最后一行是测试集\n",
    "    #print(X_train)\n",
    "    #print(X_train.shape)     # (15, 6)\n",
    "    X_test = new_data[-1, :].reshape((1,-1))  \n",
    "    Y_train = np.array([-1,-1,1,1,-1,-1,-1,1,1,1,1,1,1,1,-1])\n",
    "\n",
    "    # 构造贝叶斯模型并进行训练\n",
    "    clf=MultinomialNB(alpha=0.0000001)\n",
    "    clf.fit(X_train,y_train)\n",
    "    \n",
    "    # 对测试集进行测试输出结果\n",
    "    y_predict=clf.predict(X_test)\n",
    "    print(\"{}被分类为:{}\".format(data[-1,:],y_predict))\n",
    "    print(clf.predict_proba(X_test))"
   ]
  },
  {
   "cell_type": "code",
   "execution_count": 71,
   "metadata": {},
   "outputs": [
    {
     "name": "stdout",
     "output_type": "stream",
     "text": [
      "['2' 'S']被分类为:[-1]\n",
      "[[ 0.74999998  0.25000002]]\n"
     ]
    }
   ],
   "source": [
    "if __name__ == \"__main__\":\n",
    "    main()"
   ]
  },
  {
   "cell_type": "markdown",
   "metadata": {},
   "source": [
    "## 3. 总结回顾\n",
    "> 通过本次编程，学习了一些知识如下：\n",
    "* MultinomialNB的方法介绍:\n",
    "    + fit &emsp; 对数据集进行训练\n",
    "    + predict&emsp; 对测试点进行分类\n",
    "    + predict_proba&emsp; 对测试点属于不同分类的概率\n",
    "    + score&emsp; 输入测试集，评价训练效果\n",
    "    + partial_fit&emsp; 数据分块学习  \n",
    "* MultinomialNB的参数介绍：\n",
    "    * alpha:&ensp;先验平滑因子，默认等于1，当等于1时表示拉普拉斯平滑。<br>\n",
    "    * fit_prior:&ensp;是否去学习类的先验概率，默认是True\n",
    "    * class_prior:&ensp;各个类别的先验概率，如果没有指定，则模型会根据数据自动学习， 每个类别的先验概率相同，等于类标记总个数N分之一。\n",
    "PS: 其他贝叶斯方法的介绍： \n",
    "http://note.youdao.com/noteshare?id=36f3152f01b7bac957f9b7f6e88b15f9&sub=AD910F7C52BE48A7817E95474159FCB7\n",
    ">\n",
    ">关于独热编码和标签编码，这个很重要，但是内容太多了，见我笔记吧\n",
    "http://note.youdao.com/noteshare?id=d3019873d18e24180df73d4ca88853d1&sub=FDD39DE3412145F4A3FB4272872404E3"
   ]
  }
 ],
 "metadata": {
  "kernelspec": {
   "display_name": "Python 3",
   "language": "python",
   "name": "python3"
  },
  "language_info": {
   "codemirror_mode": {
    "name": "ipython",
    "version": 3
   },
   "file_extension": ".py",
   "mimetype": "text/x-python",
   "name": "python",
   "nbconvert_exporter": "python",
   "pygments_lexer": "ipython3",
   "version": "3.6.3"
  }
 },
 "nbformat": 4,
 "nbformat_minor": 2
}

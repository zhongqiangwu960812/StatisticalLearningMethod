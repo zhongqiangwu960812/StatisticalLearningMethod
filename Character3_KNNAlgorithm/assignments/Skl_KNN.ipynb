{
 "cells": [
  {
   "cell_type": "markdown",
   "metadata": {},
   "source": [
    "## 调用sklearn包实现KNN算法\n",
    ">问题描述： 给定一个二维空间的数据集T={正实例：(5,4), (9,6), (4,7)}; 负实例：{(2,3), (8,1), (7,2)}， 基于欧氏距离，找到数据点S（5,3）的最近邻（k=1）， 并对S点进行分类预测<br>\n",
    ">\n",
    ">下面基于sklearn包实现KNN算法，要学会KNeighborsClassifier分类器的使用和参数、方法的含义，以后会使用"
   ]
  },
  {
   "cell_type": "markdown",
   "metadata": {},
   "source": [
    "## 1. 导入用到的包"
   ]
  },
  {
   "cell_type": "code",
   "execution_count": 15,
   "metadata": {},
   "outputs": [],
   "source": [
    "import numpy as np\n",
    "import matplotlib.pyplot as plt\n",
    "from sklearn.neighbors import KNeighborsClassifier"
   ]
  },
  {
   "cell_type": "markdown",
   "metadata": {},
   "source": [
    "## 2. 定义结果可视化函数\n",
    "> 由于下面的三个算法都用到这个函数进行结果可视化，便于看清分类结果，所以在这里先定义可视化函数"
   ]
  },
  {
   "cell_type": "code",
   "execution_count": 4,
   "metadata": {},
   "outputs": [],
   "source": [
    "def visual_result(X_train, Y_train, X_new, K=1,  drawRegion=False):\n",
    "    \"\"\"\n",
    "        该函数用于可视化结果\n",
    "        \n",
    "        Args：\n",
    "            X_train: 训练集样本特征， m*n的矩阵， m表示训练样本的个数， n表示特征个数\n",
    "            Y_train: 训练集样本标签， 1*m的向量， 每一个元素对应训练样本的标签的正负\n",
    "            X_new: 测试集训练样本\n",
    "    \"\"\"\n",
    "    # 正负实例点初始化\n",
    "    X_po = np.zeros(X_train.shape[1])\n",
    "    X_ne = np.zeros(X_train.shape[1])\n",
    "    \n",
    "    # 区分正负实例点\n",
    "    for i in range(Y_train.shape[0]):\n",
    "        if Y_train[i] == 1:\n",
    "            X_po = np.vstack((X_po, X_train[i]))    # 堆叠函数  vstack是垂直堆积，也就是按行 hstack是按列堆积\n",
    "        else:\n",
    "            X_ne = np.vstack((X_ne, X_train[i]))\n",
    "    \n",
    "    # 实例点绘图\n",
    "    plt.plot(X_po[1:, 0], X_po[1:, 1], \"g*\", label=\"1\")\n",
    "    plt.plot(X_ne[1:, 0], X_ne[1:, 1], \"rx\", label=\"-1\")   # X_po 和 X_ne第一行都是0， 堆叠的样本是从第二行开始的， 所以都是[1:, i]\n",
    "    plt.plot(X_new[:, 0], X_new[:, 1], \"bo\", label=\"test points\")\n",
    "    \n",
    "    # 测试点坐标值标注\n",
    "    for xy in zip(X_new[:, 0], X_new[:, 1]):           # 这是个序列解包\n",
    "        plt.annotate(\"test()\".format(xy), xy)\n",
    "    \"\"\"\n",
    "    annotate语法说明 ：annotate(s='str' ,xy=(x,y) ,xytext=(l1,l2) ,..)\n",
    "\n",
    "    s 为注释文本内容 \n",
    "    xy 为被注释的坐标点\n",
    "    xytext 为注释文字的坐标位置\n",
    "    \"\"\"\n",
    "    \n",
    "    # 绘制区域\n",
    "    if drawRegion:\n",
    "        for i in range(X_new.shape[0]):\n",
    "            r = K\n",
    "            [a, b] = X_new[i]\n",
    "            theta = np.arange(0, 2*np.pi, 0.01)\n",
    "            x = a + r * np.cos(theta)\n",
    "            y = b + r * np.sin(theta)\n",
    "            plt.plot(x, y, \"b-\", label='region')\n",
    "            plt.axis('equal')     # 保证是圆形，没有这句，图像会成椭圆\n",
    "     \n",
    "    # 设置坐标轴\n",
    "    plt.axis([0, 10, -2, 10])\n",
    "    plt.xlabel('x1')\n",
    "    plt.ylabel('x2')\n",
    "    \n",
    "    # 显示图例\n",
    "    plt.legend()\n",
    "    \n",
    "    # 显示图像\n",
    "    plt.show()  "
   ]
  },
  {
   "cell_type": "markdown",
   "metadata": {},
   "source": [
    "## 3. 主函数\n",
    "> 1. 构造训练集<br>\n",
    "> 2. 构造测试集<br>\n",
    "> 3. 对于不同的K， 构建KNN模型，进行数据预测"
   ]
  },
  {
   "cell_type": "code",
   "execution_count": 26,
   "metadata": {},
   "outputs": [],
   "source": [
    "def main():\n",
    "    # 1 构造训练集\n",
    "    X_train = np.array([[5, 4], [9, 6], [4, 7], [2, 3], [8, 1], [7, 2]])\n",
    "    Y_train = np.array([1, 1, 1, -1, -1, -1])\n",
    "    \n",
    "    # 2 生成测试集\n",
    "    X_test = np.array([[5, 3]])\n",
    "    \n",
    "    # 对于不同的K， 构建KNN模型，进行数据预测\n",
    "    for k in range(1, 6, 2):\n",
    "        # 构建KNN模型\n",
    "        clf = KNeighborsClassifier(n_neighbors=k, n_jobs=-1)\n",
    "        \n",
    "        # 进行训练\n",
    "        clf.fit(X_train, Y_train)\n",
    "        \n",
    "        # 做出预测\n",
    "        y_predict = clf.predict(X_test)\n",
    "        print(clf.predict_proba(X_test))\n",
    "        # 输出结果\n",
    "        print(\"预测正确率： {: .0%}\".format(clf.score([[5, 3]], [[1]])))\n",
    "        print(\"k={}, 被分类为： {}\".format(k, y_predict))\n",
    "        \n",
    "        # 可视化结果\n",
    "        visual_result(X_train, Y_train, X_test, k, True)"
   ]
  },
  {
   "cell_type": "code",
   "execution_count": 27,
   "metadata": {},
   "outputs": [
    {
     "name": "stdout",
     "output_type": "stream",
     "text": [
      "[[0. 1.]]\n",
      "预测正确率：  100%\n",
      "k=1, 被分类为： [1]\n"
     ]
    },
    {
     "data": {
      "image/png": "[encoded data removed]",
      "text/plain": [
       "<Figure size 432x288 with 1 Axes>"
      ]
     },
     "metadata": {
      "needs_background": "light"
     },
     "output_type": "display_data"
    },
    {
     "name": "stdout",
     "output_type": "stream",
     "text": [
      "[[0.66666667 0.33333333]]\n",
      "预测正确率：  0%\n",
      "k=3, 被分类为： [-1]\n"
     ]
    },
    {
     "data": {
      "image/png": "[encoded data removed]",
      "text/plain": [
       "<Figure size 432x288 with 1 Axes>"
      ]
     },
     "metadata": {
      "needs_background": "light"
     },
     "output_type": "display_data"
    },
    {
     "name": "stdout",
     "output_type": "stream",
     "text": [
      "[[0.6 0.4]]\n",
      "预测正确率：  0%\n",
      "k=5, 被分类为： [-1]\n"
     ]
    },
    {
     "data": {
      "image/png": "[encoded data removed]",
      "text/plain": [
       "<Figure size 432x288 with 1 Axes>"
      ]
     },
     "metadata": {
      "needs_background": "light"
     },
     "output_type": "display_data"
    }
   ],
   "source": [
    "if __name__ == \"__main__\":\n",
    "    main()"
   ]
  },
  {
   "cell_type": "markdown",
   "metadata": {},
   "source": [
    "## 4. 总结回顾\n",
    "> KNeighborsClassifier(n_neighbors=5,weights=’uniform’,algorithm=’auto’,leaf_size=30,p=2,metric=’minkowski’,metric_params=None,n_jobs=1,*kwargs) \n",
    ">\n",
    "\n",
    "> 1. KNeighborsClassifier 参数介绍\n",
    ">> （1）n_neighbots 近邻数（k值）<br>\n",
    "&nbsp;&nbsp;&nbsp;&nbsp;&nbsp;&nbsp;&nbsp;&nbsp;&nbsp;默认是5， 但是我们这个一般是通过实验来确定（交叉验证）<br>\n",
    "（2）weights 近邻权重<br>\n",
    "&nbsp;&nbsp;&nbsp;&nbsp;&nbsp;&nbsp;&nbsp;&nbsp;&nbsp;k个邻居是不是每个邻居对影响的作用是一样的呢？  <br>\n",
    "&nbsp;&nbsp;&nbsp;&nbsp;&nbsp;&nbsp;&nbsp;&nbsp;&nbsp;默认[uniform]  权重一样<br>\n",
    "&nbsp;&nbsp;&nbsp;&nbsp;&nbsp;&nbsp;&nbsp;&nbsp;&nbsp;[distance]   是距离最近的那个邻居权重最大<br>\n",
    "（3）algorithm 算法<br>\n",
    "&nbsp;&nbsp;&nbsp;&nbsp;&nbsp;&nbsp;&nbsp;&nbsp;&nbsp;默认是自动选择， 当然也可以自己设定后面的算法<br>\n",
    "&nbsp;&nbsp;&nbsp;&nbsp;&nbsp;&nbsp;&nbsp;&nbsp;&nbsp;小数据量的时候，一般是用暴力破解就可以了。<br>\n",
    "（4）leaf_size  叶子数量<br>\n",
    "&nbsp;&nbsp;&nbsp;&nbsp;&nbsp;&nbsp;&nbsp;&nbsp;&nbsp;在kd树和球树的时候有用  默认30.<br> \n",
    "&nbsp;&nbsp;&nbsp;&nbsp;&nbsp;&nbsp;&nbsp;&nbsp;&nbsp;但是最合适的，得需要根据实际问题来说<br>\n",
    "（5）p 选择度量距离   一般默认<br>\n",
    "（6）n_jobs  跟并行计算有关系     一般默认<br>\n",
    ">\n",
    "> 2. KNeighborsClassifier 方法介绍<br>\n",
    ">>    .fit&nbsp;&nbsp;&nbsp;&nbsp;&nbsp;&nbsp;&nbsp;&nbsp;&nbsp;确定适用算法<br>\n",
    "     .predict&nbsp;&nbsp;&nbsp;&nbsp;&nbsp;&nbsp;&nbsp;&nbsp;&nbsp;对测试点进行分类<br>\n",
    "     .perdict_proba&nbsp;&nbsp;&nbsp;&nbsp;&nbsp;&nbsp;&nbsp;&nbsp;&nbsp;对测试点属于不同分类的概率<br>\n",
    "     .score&nbsp;&nbsp;&nbsp;&nbsp;&nbsp;&nbsp;&nbsp;&nbsp;&nbsp;输入测试集， 评价训练效果<br>\n",
    "     .kneighbors .kneighbors_graph &nbsp;&nbsp;&nbsp;&nbsp;&nbsp;&nbsp;&nbsp;&nbsp;&nbsp;返回k近邻点\n",
    ">\n",
    "\n",
    "> 关于更详细介绍： https://www.jianshu.com/p/871884bb4a75"
   ]
  }
 ],
 "metadata": {
  "kernelspec": {
   "display_name": "Python 3",
   "language": "python",
   "name": "python3"
  },
  "language_info": {
   "codemirror_mode": {
    "name": "ipython",
    "version": 3
   },
   "file_extension": ".py",
   "mimetype": "text/x-python",
   "name": "python",
   "nbconvert_exporter": "python",
   "pygments_lexer": "ipython3",
   "version": "3.6.8"
  }
 },
 "nbformat": 4,
 "nbformat_minor": 2
}

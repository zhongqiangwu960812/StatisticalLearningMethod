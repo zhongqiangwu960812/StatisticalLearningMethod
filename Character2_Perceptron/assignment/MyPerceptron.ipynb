{
 "cells": [
  {
   "cell_type": "markdown",
   "metadata": {},
   "source": [
    "## 自编程实现一个感知机\n",
    "> 问题描述： <br> 已知训练集D，其正实例点x1=(3, 3), x2=(4, 3), 负实例点x3=(1, 1)\n",
    ">> 用Python自编程实现感知机模型，对训练数据集进行分类， 并对比误分类点选择次序不同对最终结果的影响\n",
    ">\n",
    ">下面编程实现， 基于对象编程，顺便复习一下Python对象编程的知识\n",
    ">\n",
    ">附加： 感知机的对偶形式的实现\n",
    ">\n",
    ">原始感知机算法和对偶感知机算法的区别和应用：\n",
    ">> 原始感知机算法的计算量是和X样本的特征数量成正比的，所以如果X样本维度d比较大的时候，推荐用对偶算法<br>\n",
    "对偶感知机算法的计算量适合X样本的样本数量成正比的，所以如果X样本数量N比较大的时候，推荐用原始算法<br>\n",
    "Ps：具体推导见感知机这一节课的笔记。"
   ]
  },
  {
   "cell_type": "markdown",
   "metadata": {},
   "source": [
    "### 1. 导入相应的包"
   ]
  },
  {
   "cell_type": "code",
   "execution_count": 173,
   "metadata": {},
   "outputs": [],
   "source": [
    "import numpy as np \n",
    "import matplotlib.pyplot as plt"
   ]
  },
  {
   "cell_type": "markdown",
   "metadata": {},
   "source": [
    "### 2. 定义可视化结果的函数\n",
    ">思路：\n",
    ">>(1) 生成分离超平面上的两点， 可以是与坐标轴相交的点<br>\n",
    "(2) 绘制训练集的散点图（由于一开始产生结果随机，所以这儿遍历数据集，根据数据集标签进行绘制）<br>\n",
    "(3）绘制超平面<br>\n",
    "(4) 设置坐标"
   ]
  },
  {
   "cell_type": "code",
   "execution_count": 488,
   "metadata": {},
   "outputs": [],
   "source": [
    "def visual_result(X, y, w, b):\n",
    "    \"\"\"\n",
    "        可视化最终结果的函数\n",
    "    Args:\n",
    "        X: 训练集样本特征\n",
    "        y: 训练集样本标签\n",
    "        w, b： 参数\n",
    "    \n",
    "    \"\"\"\n",
    "    # 生成分离超平面上的两点\n",
    "    if w[1] != 0 and w[0] != 0:\n",
    "        X_new = np.array([[0], [6]])    #  X_new 是两行一列的数组   选定了两个点，就是与坐标轴的交点的x\n",
    "        y_predict = (-b-(w[0]*X_new))/ w[1]    # 因为那个模型是w1 x1 + w2 x2 + b = 0 所以， 选定了x1的两个点， x2 = -b - w[1]x[1] / w[2]\n",
    "    elif w[0] != 0:\n",
    "        X_new = np.array([[-b/w[0]], [-b/w[0]]])      # 斜率没有的情况\n",
    "        y_predict = [[0], [6]]\n",
    "    else:\n",
    "        X_new = [[0], [6]]                       # 斜率等于0的情况\n",
    "        y_predict = np.array([[-b/w[1]], [-b/w[1]]])\n",
    "        \n",
    "    # 绘制训练数据集的散点图\n",
    "    y = np.array(y).reshape((1, X.shape[0]))\n",
    "    for i in range(X.shape[0]):\n",
    "        if y[0][i] == 1:\n",
    "            plt.plot(X[i][0], X[i][1], \"g*\", label=\"1\")\n",
    "        else:\n",
    "            plt.plot(X[i][0], X[i][1], \"rx\", label=\"-1\")\n",
    "    #plt.plot(X[:2, 0], X[:2, 1], \"g*\", label=\"1\")    #  画正样本  标签是为了下面的图例\n",
    "   # plt.plot(X[2:, 0], X[2:, 0], \"rx\", label=\"-1\")   # 画负样本\n",
    "    \n",
    "    # 绘制分离超平面\n",
    "    plt.plot(X_new, y_predict, \"b-\", label=\"split line\")\n",
    "    \n",
    "    # 设置两坐标轴起始值\n",
    "    plt.axis([0, 6, 0, 6])\n",
    "    \n",
    "    # 设置坐标轴标签\n",
    "    plt.xlabel('x1')\n",
    "    plt.ylabel('x2')\n",
    "    \n",
    "    # 显示图例\n",
    "    plt.legend()\n",
    "    \n",
    "    # 显示图像\n",
    "    plt.show()"
   ]
  },
  {
   "cell_type": "markdown",
   "metadata": {},
   "source": [
    "### 2. 创建感知机模型类和相应的感知机对象\n",
    "\n",
    ">2.1 创建原始形式的感知机模型和对象(class OriPerception 和 def CreateOriPerception)<br>\n",
    "2.2 创建对偶形式的感知机模型和对象(class DualityPerception 和 def CreateDualityPerception)"
   ]
  },
  {
   "cell_type": "markdown",
   "metadata": {},
   "source": [
    "### 2.1 创建原始形式的感知机模型和对象\n",
    ">回顾一下原始形式感知机模型算法(伪代码）：\n",
    ">> 输入： 训练数据集T = {(x1, y1), ....(xn, yn)}<br>\n",
    "（1）选出初始值w0, b0以及学习率η<br>\n",
    "（2）在训练数据集中选取数据(x1, y1)<br>\n",
    "（3）如果yi(w.xi+b) <=0:<br>\n",
    "    &emsp;&emsp;&emsp;&emsp;&emsp;w = w + ηyixi<br>\n",
    "    &emsp;&emsp;&emsp;&emsp;&emsp;b = b + ηyi<br>\n",
    "（4）转至（2）， 直到训练集中没有误分类点"
   ]
  },
  {
   "cell_type": "code",
   "execution_count": 511,
   "metadata": {},
   "outputs": [],
   "source": [
    "class OriPerception:\n",
    "    \"\"\"定义原始感知机类\"\"\"\n",
    "    \n",
    "    def __init__(self):              # 定义属性，并且初始化, self必须有\n",
    "        self.w = None\n",
    "        self.b = 0\n",
    "        self.l_rate = 0.3            # 这里可以修改学习率\n",
    "    \n",
    "    # 定义训练感知机的函数\n",
    "    def train(self, X_train, y_train, visual=False):\n",
    "        \"\"\"定义训练原始感知机的函数\n",
    "        \n",
    "        Args:\n",
    "            X_train:  传过来的训练集特征X(矩阵的形式)\n",
    "               eg:  X_train = [[x11, x12], [x21, x22], [x31, x32]]\n",
    "            y_train: 对应的标签y（一维向量的形式）\n",
    "               eg:  y_train = [1, 1, -1]\n",
    "        \n",
    "        \"\"\"\n",
    "        self.w = np.zeros(X_train.shape[1])    # 用样本点的特征数更新初始化w, 如x1=(3, 3), 有两个特征， 则self.w=[0, 0]\n",
    "        i = 0\n",
    "        while i < X_train.shape[0]:\n",
    "            X = X_train[i]\n",
    "            y = y_train[i]\n",
    "            if y * (np.dot(self.w, X) + self.b) <= 0:\n",
    "                self.w = self.w + self.l_rate * np.dot(y, X)\n",
    "                self.b = self.b + self.l_rate * y\n",
    "                i = 0         # 如果是误分类点，调整参数，从头进行检测\n",
    "            else:\n",
    "                i += 1\n",
    "            \n",
    "            if visual:\n",
    "                visual_result(X_train, y_train, self.w, self.b)      # 分类过程中可以将结果可视化，但是结果就很繁琐，建议debug用\n",
    "\n",
    "# 创建原始感知机模型对象\n",
    "def CreateOriPerception(X_train, y_train):\n",
    "    \"\"\"\n",
    "        定义创建原始感知机的函数\n",
    "        \n",
    "        Args:\n",
    "            X_train:  传过来的训练集特征X(矩阵的形式)\n",
    "               eg:  X = [[x11, x12], [x21, x22], [x31, x32]]\n",
    "            y_train: 对应的标签y（一维向量的形式）\n",
    "               eg:  y = [1, 1, -1]\n",
    "        \n",
    "    \"\"\"\n",
    "    perception = OriPerception()\n",
    "    perception.train(X_train, y_train)\n",
    "    print('W:', perception.w)\n",
    "    print('b:', perception.b)\n",
    "    visual_result(X_train, perception.w, perception.b)"
   ]
  },
  {
   "cell_type": "markdown",
   "metadata": {},
   "source": [
    "### 2.2 创建对偶形式的感知机模型和对象\n",
    ">回顾一下对偶形式感知机模型的算法（伪代码）：\n",
    ">>输入： 训练数据集T = {(x1, y1), ....(xn, yn)}<br>\n",
    "（1）选出初始值α,b以及学习率η<br>\n",
    "（2）在训练数据集中选取数据(xi, yi)<br>\n",
    "（3）如果yi(∑αjyjxj. xi + b) <= 0:<br>\n",
    "     αi = αi + η<br>\n",
    "     b = b + ηyi<br>\n",
    "（4）转至（2）， 直到训练集中没有误分类点"
   ]
  },
  {
   "cell_type": "code",
   "execution_count": 527,
   "metadata": {},
   "outputs": [],
   "source": [
    "class DualityPerception:\n",
    "    \"\"\"定义对偶感知机类\"\"\"    \n",
    "    \n",
    "    def __init__(self):            # 定义属性，并且初始化, self必须有\n",
    "        self.a = None\n",
    "        self.b = 0\n",
    "        self.l_rate = 0.3            # 这里可以修改学习率\n",
    "    \n",
    "    # 定义训练感知机的函数\n",
    "    def ComputeGram(self, X_train):\n",
    "        \"\"\"\n",
    "         计算Gram矩阵（当然还有简便的计算方法）\n",
    "         \n",
    "         Args: \n",
    "             X_train: 获取训练集的数据特征 \n",
    "        \n",
    "        return：\n",
    "            Gram： 得到的Gram矩阵， 即每个训练样本两两内积组成\n",
    "        \"\"\"\n",
    "        Gram = []\n",
    "\n",
    "        for j in range(X_train.shape[0]):\n",
    "             for k in range(X_train.shape[0]):\n",
    "                temp = np.sum(X_train[j,:] * X_train[k, :])\n",
    "                Gram.append(temp)\n",
    "        Gram = np.array(Gram).reshape((X_train.shape[0], X_train.shape[0]))\n",
    "        \n",
    "        return Gram\n",
    "    \n",
    "    def train(self, X_train, y_train, visual=False):\n",
    "        \"\"\"\n",
    "            定义训练对偶感知机的函数\n",
    "        \n",
    "        Args:\n",
    "            X_train:  传过来的训练集特征X(矩阵的形式)\n",
    "               eg:  X_train = [[x11, x12], [x21, x22], [x31, x32]]\n",
    "            y_train: 对应的标签y（一维向量的形式）\n",
    "               eg:  y_train = [1, 1, -1]\n",
    "        \"\"\"\n",
    "        self.a = np.zeros([1, X_train.shape[0]]) # 用样本点的个数更新初始化a, 如有x1,x2,x3 三个样本点， 则self.a=[0, 0, 0] 和原始感知机不同\n",
    "        i = 0\n",
    "        #Gram = self.ComputeGram(X_train)\n",
    "        Gram = np.dot(X_train, X_train.T)            # 这个是计算Gram矩阵的简单形式， 建议用这个\n",
    "        while i < X_train.shape[0]:\n",
    "            X = X_train[i]\n",
    "            y = y_train[i]\n",
    "            sum1 = 0\n",
    "            j = 0\n",
    "            while j < X_train.shape[0]:            # 计算累加和\n",
    "                sum1 += (self.a[0][j] * y_train[j] * Gram[j][i])\n",
    "                j += 1\n",
    "            sum1 += self.b\n",
    "            if y * sum1 <= 0:\n",
    "                self.a[0][i] = self.a[0][i] + self.l_rate\n",
    "                self.b = self.b + self.l_rate * y\n",
    "                i = 0                            # 如果是误分类点，调整参数，从头进行检测\n",
    "            else:\n",
    "                i += 1\n",
    "            \n",
    "            if visual:\n",
    "                visual_result(X_train, y_train, self.w, self.b)           # 分类过程中可以将结果可视化，但是结果就很繁琐，建议debug用\n",
    "\n",
    "def CreateDualityPerception(X_train, y_train):\n",
    "    \"\"\"\n",
    "     定义创建对偶感知机的函数\n",
    "\n",
    "    Args:\n",
    "        X_train:  传过来的训练集特征X(矩阵的形式)\n",
    "            eg:  X_train = [[x11, x12], [x21, x22], [x31, x32]]\n",
    "        y_train: 对应的标签y（一维向量的形式）\n",
    "            eg:  y_train = [1, 1, -1]\n",
    "\n",
    "    \"\"\"\n",
    "    perception = DualityPerception()\n",
    "    perception.train(X_train, y_train)\n",
    "    print('a:', perception.a)\n",
    "    y_train = np.array(y_train).reshape((1, X_train.shape[0]))   #  把y_train从1一维列表变成二维矩阵\n",
    "    w = np.sum(perception.a.T * X_train * y_train.T, axis=0)\n",
    "    print('W:', w)\n",
    "    print('b:', perception.b)\n",
    "    visual_result(X_train,y_train, w, perception.b)\n",
    "    "
   ]
  },
  {
   "cell_type": "markdown",
   "metadata": {},
   "source": [
    "### 4. 主函数\n",
    "> 1. 构造训练集<br>\n",
    ">2. 构建感知机对象， 对数据集进行训练<br> \n",
    ">3. 可视化结果"
   ]
  },
  {
   "cell_type": "code",
   "execution_count": 522,
   "metadata": {},
   "outputs": [],
   "source": [
    "def main():\n",
    "    # 构造训练集, 采用随机生成的方式\n",
    "    orig_data = np.array([[3, 3, 1], [4, 3, 1], [1, 1, -1]])\n",
    "    row = np.random.permutation(orig_data.shape[0])    #  随机打乱行号\n",
    "    new_data = orig_data[row, :] \n",
    "    X_train = new_data[:, 0:2]\n",
    "    Y_train = new_data[:, 2:]\n",
    "    y_train = Y_train.T[0, :]\n",
    "    \n",
    "    print(\"数据集信息：\")\n",
    "    print('X_train', X_train)\n",
    "    print('y_train', y_train)\n",
    "    print()\n",
    "    # 构建感知机对象， 对数据集进行训练\n",
    "    print('************************************************************')\n",
    "    print('在原始感知机下的结果：')\n",
    "    CreateOriPerception(X_train, y_train)\n",
    "    print()\n",
    "\n",
    "    print('************************************************************')\n",
    "    print('在对偶感知机下的结果：')\n",
    "    CreateDualityPerception(X_train, y_train)\n",
    "    "
   ]
  },
  {
   "cell_type": "code",
   "execution_count": 528,
   "metadata": {
    "scrolled": false
   },
   "outputs": [
    {
     "name": "stdout",
     "output_type": "stream",
     "text": [
      "数据集信息：\n",
      "X_train [[3 3]\n",
      " [4 3]\n",
      " [1 1]]\n",
      "y_train [ 1  1 -1]\n",
      "\n",
      "************************************************************\n",
      "在原始感知机下的结果：\n",
      "W: [0.3 0.3]\n",
      "b: -0.8999999999999999\n"
     ]
    },
    {
     "data": {
      "image/png": "[encoded data removed]",
      "text/plain": [
       "<Figure size 432x288 with 1 Axes>"
      ]
     },
     "metadata": {
      "needs_background": "light"
     },
     "output_type": "display_data"
    },
    {
     "name": "stdout",
     "output_type": "stream",
     "text": [
      "\n",
      "************************************************************\n",
      "在对偶感知机下的结果：\n",
      "a: [[0.6 0.  1.5]]\n",
      "W: [0.3 0.3]\n",
      "b: -0.8999999999999999\n"
     ]
    },
    {
     "data": {
      "image/png": "[encoded data removed]",
      "text/plain": [
       "<Figure size 432x288 with 1 Axes>"
      ]
     },
     "metadata": {
      "needs_background": "light"
     },
     "output_type": "display_data"
    }
   ],
   "source": [
    "if __name__ == \"__main__\":\n",
    "    main()"
   ]
  },
  {
   "cell_type": "markdown",
   "metadata": {},
   "source": [
    "###  总结和回顾\n",
    ">通过这次自己实现感知机模型，学到了Python的一些知识，下面总结回顾一下：\n",
    ">>1. 面向对象编程的好处就是结构清晰，代码分离程度高，类的对象声明与定义要会，类中的函数，初始化函数不用手动调用，建立对象后自动调用，初始化属性参数， 类中的其他函数定义的时候，形参必须先写生self， 以方便调用自己的成员。<br>\n",
    "2. 对偶形式的模型中，Gram矩阵的计算， 有简便方法， 看下面整理<br>\n",
    "3. Python中的错误\"'list' object has no attribute 'reshape'\"  列表和一维数组是不一样的，不能把列表当做一维数组使用"
   ]
  },
  {
   "cell_type": "markdown",
   "metadata": {},
   "source": [
    "#### 1. 看如何把一个矩阵行向量随机打乱"
   ]
  },
  {
   "cell_type": "code",
   "execution_count": 546,
   "metadata": {},
   "outputs": [
    {
     "name": "stdout",
     "output_type": "stream",
     "text": [
      "[[4 3]\n",
      " [1 1]\n",
      " [3 3]]\n",
      "[ 1 -1  1]\n"
     ]
    }
   ],
   "source": [
    "\"\"\"\n",
    "对numpy.array重新排列：\n",
    "    numpy.random.shuffle(x)：修改本身，打乱顺序\n",
    "    numpy.random.permutation(x)：返回一个随机排列\n",
    "\"\"\"\n",
    "\n",
    "orig_data = np.array([[3, 3, 1], [4, 3, 1], [1, 1, -1]])\n",
    "row = np.random.permutation(X_train.shape[0])    #  随机打乱行号\n",
    "new_data = orig_data[row, :] \n",
    "X_train = new_data[:, 0:2]\n",
    "Y_train = new_data[:, 2:]\n",
    "Y_train = Y_train.T[0, :]\n",
    "\n",
    "print(X_train)\n",
    "print(Y_train)\n",
    "\n"
   ]
  },
  {
   "cell_type": "markdown",
   "metadata": {},
   "source": [
    "####  2. 感知机学习算法的对偶形式，如何计算Gram矩阵\n",
    "> 第一种方式： 写一个循环遍历样本，两两内积<br>\n",
    "第二种方式： 直接np.dot()"
   ]
  },
  {
   "cell_type": "code",
   "execution_count": 547,
   "metadata": {},
   "outputs": [
    {
     "name": "stdout",
     "output_type": "stream",
     "text": [
      "[18, 21, 6, 21, 25, 7, 6, 7, 2]\n",
      "[[18 21  6]\n",
      " [21 25  7]\n",
      " [ 6  7  2]]\n",
      "[[18 21  6]\n",
      " [21 25  7]\n",
      " [ 6  7  2]]\n"
     ]
    }
   ],
   "source": [
    "# 第一种方式： 基于for循环\n",
    "def ComputeGram(X_train):\n",
    "        Gram = []\n",
    "\n",
    "        for j in range(X_train.shape[0]):\n",
    "             for k in range(X_train.shape[0]):\n",
    "                temp = np.sum(X_train[j,:] * X_train[k, :])\n",
    "                Gram.append(temp)\n",
    "       # Gram = Gram.reshape((X_train.shape[0], X_train.shape[0]))  #'list' object has no attribute 'reshape'\n",
    "        print(Gram)\n",
    "        Gram = np.array(Gram).reshape((X_train.shape[0], X_train.shape[0]))\n",
    "        return Gram\n",
    "\n",
    "\n",
    "X_train=np.array([[3,3],[4,3],[1,1]])\n",
    "Gram = ComputeGram(X_train)\n",
    "Gram1 = np.dot(X_train, X_train.T)             # 第二种方式， 直接np.dot()，这个方法好 这个利用矩阵的乘法原理\n",
    "print(Gram)\n",
    "print(Gram1)"
   ]
  },
  {
   "cell_type": "markdown",
   "metadata": {},
   "source": [
    "####  3. 数组和列表是不一样的\n",
    "> 编程中，不能将列表当做一维数组来用，列表没有一维数组的相关属性的，所以，要善于运用reshape和np.array()"
   ]
  },
  {
   "cell_type": "code",
   "execution_count": 570,
   "metadata": {},
   "outputs": [
    {
     "name": "stdout",
     "output_type": "stream",
     "text": [
      "list:  [1, 2, 3, 4, 5, 6, 7, 8, 9]\n",
      "one dimension array:  [1 2 3 4 5 6 7 8 9]\n",
      "[1 2 3 4 5 6 7 8 9]\n",
      "2-D_list:  [[3], [3], [1]]\n",
      "2-D_array [[3]\n",
      " [3]\n",
      " [1]]\n"
     ]
    }
   ],
   "source": [
    "a = [1, 2, 3, 4, 5, 6, 7, 8, 9]    #  这是一个列表\n",
    "b = np.array(a)       # 这样才是一维数组\n",
    "\n",
    "print(\"list: \", a)\n",
    "#print(a.T)        # 这个报错   'list' object has no attribute 'T'\n",
    "print(\"one dimension array: \", b)\n",
    "print(b.T)\n",
    "\n",
    "# 二维的同样如此\n",
    "d= [[3],[3],[1]]   # 这是二维列表\n",
    "e = np.array(d)   # 这是二维数组\n",
    "\n",
    "print('2-D_list: ', d)\n",
    "print('2-D_array', e)"
   ]
  },
  {
   "cell_type": "markdown",
   "metadata": {},
   "source": [
    "#### 4. 看看二维数组行列矩阵定义（易混）"
   ]
  },
  {
   "cell_type": "code",
   "execution_count": 575,
   "metadata": {},
   "outputs": [
    {
     "name": "stdout",
     "output_type": "stream",
     "text": [
      "a.shape:  (3, 2)\n",
      "b.shape:  (3, 1)\n",
      "c.shape:  (1, 3)\n",
      "d.shape:  (3,)\n"
     ]
    }
   ],
   "source": [
    "a = np.array([[3,3],[4,3],[1,1]])     # a.shape?    (3, 2)\n",
    "b = np.array([[3], [3], [1]])     # b.shape?    (3, 1)\n",
    "c = np.array([[3, 3, 1]] )  # c.shape?     (1, 3)\n",
    "d = np.array([3, 3, 1])   # e.shape?     (3,)\n",
    "\n",
    "print('a.shape: ', a.shape)\n",
    "print('b.shape: ', b.shape)\n",
    "print('c.shape: ', c.shape)\n",
    "print('d.shape: ', d.shape)"
   ]
  },
  {
   "cell_type": "markdown",
   "metadata": {},
   "source": [
    "#### 4. 一维数组和二维数组的区别（易混）"
   ]
  },
  {
   "cell_type": "code",
   "execution_count": 579,
   "metadata": {},
   "outputs": [
    {
     "name": "stdout",
     "output_type": "stream",
     "text": [
      "[[-0.42803163]\n",
      " [ 0.22987266]\n",
      " [-0.45958753]\n",
      " [-0.16620036]\n",
      " [ 1.22328269]] (5, 1)\n",
      "[ 0.5543977  -0.53085695  0.70430979  1.20800742 -1.17724776] (5,)\n",
      "[[ 0.5543977 ]\n",
      " [-0.53085695]\n",
      " [ 0.70430979]\n",
      " [ 1.20800742]\n",
      " [-1.17724776]]\n"
     ]
    },
    {
     "ename": "AssertionError",
     "evalue": "",
     "output_type": "error",
     "traceback": [
      "\u001b[1;31m---------------------------------------------------------------------------\u001b[0m",
      "\u001b[1;31mAssertionError\u001b[0m                            Traceback (most recent call last)",
      "\u001b[1;32m<ipython-input-579-60590fa6fe19>\u001b[0m in \u001b[0;36m<module>\u001b[1;34m\u001b[0m\n\u001b[0;32m     13\u001b[0m \u001b[1;33m\u001b[0m\u001b[0m\n\u001b[0;32m     14\u001b[0m \u001b[1;31m# arrert 检查维度\u001b[0m\u001b[1;33m\u001b[0m\u001b[1;33m\u001b[0m\u001b[1;33m\u001b[0m\u001b[0m\n\u001b[1;32m---> 15\u001b[1;33m \u001b[1;32massert\u001b[0m\u001b[1;33m(\u001b[0m\u001b[0ma2\u001b[0m\u001b[1;33m.\u001b[0m\u001b[0mshape\u001b[0m \u001b[1;33m==\u001b[0m \u001b[1;33m(\u001b[0m\u001b[1;36m5\u001b[0m\u001b[1;33m,\u001b[0m \u001b[1;36m1\u001b[0m\u001b[1;33m)\u001b[0m\u001b[1;33m)\u001b[0m     \u001b[1;31m#  这样在编程的时候，核对一下是不是你要的维度，如果不是，会报错提醒\u001b[0m\u001b[1;33m\u001b[0m\u001b[1;33m\u001b[0m\u001b[0m\n\u001b[0m",
      "\u001b[1;31mAssertionError\u001b[0m: "
     ]
    }
   ],
   "source": [
    "a1 = np.random.randn(5, 1)   # a1 啥样？[[-0.91084764] [-1.87714429] [ 0.21182939] [ 1.36758288] [ 0.49590864]]    (5, 1)\n",
    "a2 = np.random.randn(5)      # a2 啥样？ [-0.9832092   0.02045395 -0.43123666  1.74740311  0.22283969]    (5,)\n",
    "\n",
    "print(a1, a1.shape)\n",
    "print(a2, a2.shape)\n",
    "\n",
    "# 上面的a1和a2区别还是很大的，编程中，往往由于不小心，错把a2当成a1， 导致最终结果错误，这样的结果一般还不好找。\n",
    "# 所以检查矩阵维度是很有必要的\n",
    "\n",
    "# reshape 改变维度\n",
    "a = a2.reshape((5, 1))    #  这个是如果发现维度错了之后，可以变成向量 比较保险  \n",
    "print(a)\n",
    "\n",
    "# arrert 检查维度\n",
    "assert(a2.shape == (5, 1))     #  这样在编程的时候，核对一下是不是你要的维度，如果不是，会报错提醒， 这时候再用上面的reshape函数进行改变"
   ]
  }
 ],
 "metadata": {
  "kernelspec": {
   "display_name": "Python 3",
   "language": "python",
   "name": "python3"
  },
  "language_info": {
   "codemirror_mode": {
    "name": "ipython",
    "version": 3
   },
   "file_extension": ".py",
   "mimetype": "text/x-python",
   "name": "python",
   "nbconvert_exporter": "python",
   "pygments_lexer": "ipython3",
   "version": "3.6.8"
  }
 },
 "nbformat": 4,
 "nbformat_minor": 2
}

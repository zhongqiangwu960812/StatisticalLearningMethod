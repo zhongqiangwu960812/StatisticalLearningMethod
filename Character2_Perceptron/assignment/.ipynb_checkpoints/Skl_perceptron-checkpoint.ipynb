{
 "cells": [
  {
   "cell_type": "markdown",
   "metadata": {},
   "source": [
    "## 调用sklearn包编程实现一个感知机\n",
    "> 问题描述： <br> 已知训练集D，其正实例点x1=(3, 3), x2=(4, 3), 负实例点x3=(1, 1)\n",
    ">> 用Python调用sklearn包实现感知机模型，对训练数据集进行分类\n",
    ">\n",
    ">下面编程实现，顺便学习一下Python的sklearn包有关感知机的知识\n",
    ">\n",
    ">附加： 感知机的对偶形式的实现\n",
    "\n",
    ">Ps：关于Perceptron的其他参数介绍，见笔记"
   ]
  },
  {
   "cell_type": "markdown",
   "metadata": {},
   "source": [
    "### 1.导入相应的包"
   ]
  },
  {
   "cell_type": "code",
   "execution_count": 13,
   "metadata": {},
   "outputs": [],
   "source": [
    "from sklearn.linear_model import Perceptron\n",
    "import numpy as np\n",
    "import matplotlib.pyplot as plt"
   ]
  },
  {
   "cell_type": "markdown",
   "metadata": {},
   "source": [
    "### 2. 定义可视化结果的函数\n",
    ">思路：\n",
    ">>(1) 生成分离超平面上的两点， 可以是与坐标轴相交的点<br>\n",
    "(2) 绘制训练集的散点图（由于一开始产生结果随机，所以这儿遍历数据集，根据数据集标签进行绘制）<br>\n",
    "(3）绘制超平面<br>\n",
    "(4) 设置坐标"
   ]
  },
  {
   "cell_type": "code",
   "execution_count": 27,
   "metadata": {},
   "outputs": [],
   "source": [
    "def visual_result(X, w, b):\n",
    "    \n",
    "    # 绘制数据点\n",
    "    plt.scatter(x=X[:2, 0], y=X[:2, 1], cmap='go', label='1')\n",
    "    plt.scatter(x=X[2, 0], y=X[2, 1], cmap='ro', label='-1')\n",
    "    \n",
    "    # 绘制分离直线\n",
    "    x = np.linspace(0, 6)\n",
    "    if w[0][0] == 0:\n",
    "        # 水平线\n",
    "        y = -b / w[0][1]\n",
    "        plt.hlines(y, 0, 6, 'g', label='split line')\n",
    "    elif w[0][1] == 0:\n",
    "        # 垂直线\n",
    "        x = -b / w[0][0]\n",
    "        plt.vlines(x, 0, 6, 'g', label='split line')\n",
    "    else:\n",
    "        # 斜线\n",
    "        y = -(w[0][0] * x + b) / w[0][1]\n",
    "        plt.plot(x, y, 'g', label='split line')\n",
    "        \n",
    "    # 设置坐标轴标签\n",
    "    plt.xlabel('x1')\n",
    "    plt.ylabel('x2')\n",
    "    \n",
    "    # 设置两坐标轴起始值\n",
    "    plt.axis([0, 6, 0, 6])\n",
    "    \n",
    "    # 显示网络\n",
    "    plt.grid()\n",
    "    \n",
    "    # 显示标签\n",
    "    plt.legend()\n",
    "    \n",
    "    # 显示函数图像\n",
    "    plt.show()"
   ]
  },
  {
   "cell_type": "markdown",
   "metadata": {},
   "source": [
    "### 3. 主函数\n",
    "> 1. 构造训练集<br>\n",
    ">2. 构建感知机对象， 对数据集进行训练<br> \n",
    ">3. 可视化结果\n",
    ">4. 测试模型预测的准确率"
   ]
  },
  {
   "cell_type": "code",
   "execution_count": 42,
   "metadata": {},
   "outputs": [],
   "source": [
    "def main():\n",
    "    \n",
    "    # 构建数据集\n",
    "    X_train = np.array([[3, 3], [4, 3], [1, 1]])\n",
    "    Y_train = np.array([1, 1, -1])\n",
    "    \n",
    "    # 实例化一个感知机模型\n",
    "    perceptron = Perceptron(penalty='l1', eta0=0.1, tol=1e-3)   \n",
    "    \"\"\"\n",
    "    Perceptron参数说明：\n",
    "    \n",
    "        penalty:   正则化项，  默认None，    可选  'l2' 'l1' or 'elasticnet'   l2正则化和l1正则化的区别，见笔记\n",
    "        alpha:     正则化系数，默认0.0001    过大，容易欠拟合， 过小，约束程度不够，容易过拟合\n",
    "        eta0:      学习率，    默认 1        可选 (0, 1]\n",
    "        max_iter:  迭代次数，  默认5，       可选 如果tol不为None的时候，这个为1000\n",
    "        tol:       终止条件，  默认None，    可选 （previous_loss - loss）< tol\n",
    "    \n",
    "    \"\"\"\n",
    "    \n",
    "    # 训练数据\n",
    "    perceptron.fit(X_train, Y_train)\n",
    "    \n",
    "    # 获取权值、偏置单元和迭代次数\n",
    "    w = perceptron.coef_\n",
    "    b = perceptron.intercept_\n",
    "    n = perceptron.n_iter_\n",
    "    \n",
    "    # 打印输出结果\n",
    "    print(\"w=%s, b=%s, n=%s \" % (w, b, n))\n",
    " \n",
    "    \n",
    "    # 可视化结果\n",
    "    visual_result(X_train, w, b)\n",
    "    \n",
    "    # 测试模型预测的准确率\n",
    "    res=perceptron.score(X_train,Y_train)\n",
    "    print(\"correct rate:{:.0%}\".format(res))"
   ]
  },
  {
   "cell_type": "code",
   "execution_count": 44,
   "metadata": {},
   "outputs": [
    {
     "name": "stdout",
     "output_type": "stream",
     "text": [
      "w=[[0.09973 0.     ]], b=[-0.2], n=9 \n"
     ]
    },
    {
     "data": {
      "image/png": "[encoded data removed]",
      "text/plain": [
       "<Figure size 432x288 with 1 Axes>"
      ]
     },
     "metadata": {
      "needs_background": "light"
     },
     "output_type": "display_data"
    },
    {
     "name": "stdout",
     "output_type": "stream",
     "text": [
      "correct rate:100%\n"
     ]
    }
   ],
   "source": [
    "if __name__ == \"__main__\":\n",
    "    main()"
   ]
  },
  {
   "cell_type": "markdown",
   "metadata": {},
   "source": [
    "### 4. 总结回顾\n",
    "> 1. from sklearn.linear_model import Perceptron 从sklearn中调感知机包创建模型， 关于sklearn的学习，后面给出<br>\n",
    "2. 重点就是Perceptron感知模型的参数，一定要知道各个参数的含义及作用，遇到问题会调<br>\n",
    "3. 这个实验，关于这个学习率对最终结果的影响，如果w，b初始值均为0的话，学习率对于这个问题，是没有影响的，如果w,b初值不是0，学习率就起作用了<br>\n",
    "4. 关于正则化项， L1正则化使得特征值更加稀疏， L2正则化使得权值更加均匀<br>\n",
    "5. 关于正则化系数， 过小，无约束效力，依然可能过拟合， 过大，约束的太狠，容易导致欠拟合"
   ]
  }
 ],
 "metadata": {
  "kernelspec": {
   "display_name": "Python 3",
   "language": "python",
   "name": "python3"
  },
  "language_info": {
   "codemirror_mode": {
    "name": "ipython",
    "version": 3
   },
   "file_extension": ".py",
   "mimetype": "text/x-python",
   "name": "python",
   "nbconvert_exporter": "python",
   "pygments_lexer": "ipython3",
   "version": "3.6.8"
  }
 },
 "nbformat": 4,
 "nbformat_minor": 2
}

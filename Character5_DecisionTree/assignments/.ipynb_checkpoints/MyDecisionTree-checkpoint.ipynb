{
 "cells": [
  {
   "cell_type": "markdown",
   "metadata": {},
   "source": [
    "## 自编程实现决策树\n",
    "> 问题描述： 尝试调用sklearn.tree.DecisionTreeClassifier模块，训练数据集采用课本例题5.1的数据，判断是否应该批准下列人员的贷款申请\n",
    ">> A={青年，否，是，一般}<br>B={中年，是，否，好}<br>C={老年，否，是，一般}\n",
    ">\n",
    "> 说明： 这里只是简单的实现了一下决策树，学习一些Python的知识，更好的理解一下构建树的过程，没有实现剪枝的功能"
   ]
  },
  {
   "cell_type": "markdown",
   "metadata": {},
   "source": [
    "## 1. 导入包"
   ]
  },
  {
   "cell_type": "code",
   "execution_count": 3,
   "metadata": {},
   "outputs": [],
   "source": [
    "import numpy as np\n",
    "import pandas as pd\n",
    "import math\n",
    "import time\n",
    "\n",
    "from collections import namedtuple"
   ]
  },
  {
   "cell_type": "markdown",
   "metadata": {},
   "source": [
    "## 2. 定义决策树模型类\n",
    "> (1) 定义节点<br>\n",
    "(2) 定义决策树模型\n",
    ">> a. 初始化成员变量<br>\n",
    "b. 计算经验熵<br>\n",
    "c. 计算条件熵<br>\n",
    "d. 计算信息增益<br>\n",
    "e. 计算信息增益比<br>\n",
    "f. 选择分类特征<br>\n",
    "i. 递归的构建决策树<br>\n",
    "j. 搜索函数<br>\n",
    "k. 预测函数"
   ]
  },
  {
   "cell_type": "code",
   "execution_count": 8,
   "metadata": {},
   "outputs": [],
   "source": [
    "class Node(namedtuple(\"Node\",\"children type content feature label\")): # 孩子节点、分类特征的取值、节点内容、节点分类特征、标签\n",
    "    \"\"\"定义节点\"\"\"\n",
    "    def __repr__(self):\n",
    "        return str(tuple(self))\n",
    "\n",
    "class DecisionTree():\n",
    "    \"\"\"决策树\"\"\"\n",
    "    def __init__(self,method=\"info_gain_ratio\"):\n",
    "        self.tree=None\n",
    "        self.method=method\n",
    "\n",
    "    def _experienc_entropy(self,X):\n",
    "        \"\"\"计算经验熵\"\"\"\n",
    "        # 统计每个取值的出现频率\n",
    "        x_types_prob=X.iloc[:,0].value_counts()/X.shape[0]\n",
    "        # 计算经验熵\n",
    "        x_experienc_entropy=sum((-p*math.log(p,2) for p in x_types_prob))\n",
    "        return x_experienc_entropy\n",
    "\n",
    "    def _conditinal_entropy(self,X_train,y_train,feature):\n",
    "        \"\"\"计算条件熵\"\"\"\n",
    "        # feature特征下每个特征取值数量统计\n",
    "        x_types_count= X_train[feature].value_counts()\n",
    "        # 每个特征取值频率计算\n",
    "        x_types_prob = x_types_count / X_train.shape[0]\n",
    "        # 每个特征取值下类别y的经验熵\n",
    "        x_experienc_entropy=[self._experienc_entropy(y_train[(X_train[feature]==i).values]) for i in x_types_count.index]\n",
    "        # 特征feature对数据集的经验条件熵\n",
    "        x_conditinal_entropy=(x_types_prob.mul(x_experienc_entropy)).sum()\n",
    "        return x_conditinal_entropy\n",
    "\n",
    "    def _information_gain(self,X_train,y_train,feature):\n",
    "        \"\"\"计算信息增益\"\"\"\n",
    "        return self._experienc_entropy(y_train)-self._conditinal_entropy(X_train,y_train,feature)\n",
    "\n",
    "    def _information_gain_ratio(self,X_train,y_train,features,feature):\n",
    "        \"\"\"计算信息增益比\"\"\"\n",
    "        index=features.index(feature)\n",
    "        return self._information_gain(X_train,y_train,feature)/self._experienc_entropy(X_train.iloc[:,index:index+1])\n",
    "\n",
    "    def _choose_feature(self,X_train,y_train,features):\n",
    "        \"\"\"选择分类特征\"\"\"\n",
    "        if self.method==\"info_gain_ratio\":\n",
    "            info=[self._information_gain_ratio(X_train,y_train,features,feature) for feature in features]\n",
    "        elif self.method==\"info_gain\":\n",
    "            info=[self._information_gain(X_train,y_train,feature) for feature in features]\n",
    "        else:\n",
    "            raise TypeError\n",
    "        optimal_feature=features[np.argmax(info)]\n",
    "        # for i in range(len(features)):\n",
    "        #     print(features[i],\":\",info[i])\n",
    "        return optimal_feature\n",
    "\n",
    "    def _built_tree(self,X_train,y_train,features,type=None):\n",
    "        \"\"\"递归构造决策树\"\"\"\n",
    "        # 只有一个节点或已经完全分类，则决策树停止继续分叉\n",
    "        if len(features)==1 or len(np.unique(y_train))==1:\n",
    "            label=list(y_train[0].value_counts().index)[0]\n",
    "            return Node(children=None,type=type,content=(X_train,y_train),feature=None,label=label)\n",
    "        else:\n",
    "            # 选择分类特征值\n",
    "            feature=self._choose_feature(X_train,y_train,features)\n",
    "            features.remove(feature)\n",
    "            # 构建节点，同时递归创建孩子节点\n",
    "            features_iter=np.unique(X_train[feature])\n",
    "            children=[]\n",
    "            for item in features_iter:\n",
    "                X_item=X_train[(X_train[feature]==item).values]\n",
    "                y_item=y_train[(X_train[feature]==item).values]\n",
    "                children.append(self._built_tree(X_item,y_item,features,type=item))\n",
    "            return Node(children=children,type=type,content=None,feature=feature,label=None)\n",
    "\n",
    "    def _prune(self):\n",
    "        \"\"\"进行剪枝\"\"\"\n",
    "        pass\n",
    "\n",
    "    def fit(self,X_train,y_train,features):\n",
    "        self.tree=self._built_tree(X_train,y_train,features)\n",
    "        #self.tree=self._prune(tree)\n",
    "\n",
    "    def _search(self,X_new):\n",
    "        tree=self.tree\n",
    "        # 若还有孩子节点，则继续向下搜索，否则搜索停止，在当前节点获取标签\n",
    "        while tree.children:\n",
    "            for child in tree.children:\n",
    "                if X_new[tree.feature].loc[0]==child.type:\n",
    "                    tree=child\n",
    "                    break\n",
    "        return tree.label\n",
    "\n",
    "    def predict(self,X_new):\n",
    "        return self._search(X_new)"
   ]
  },
  {
   "cell_type": "markdown",
   "metadata": {},
   "source": [
    "## 3. 主函数\n"
   ]
  },
  {
   "cell_type": "code",
   "execution_count": 9,
   "metadata": {},
   "outputs": [],
   "source": [
    "def main():\n",
    "    star=time.time()\n",
    "    # 训练数据集\n",
    "    features=[\"年龄\",\"有工作\",\"有自己的房子\",\"信贷情况\"]\n",
    "    X_train=np.array([\n",
    "                      [\"青年\", \"否\", \"否\", \"一般\"],\n",
    "                      [\"青年\", \"否\", \"否\", \"好\"],\n",
    "                      [\"青年\", \"是\", \"否\", \"好\"],\n",
    "                      [\"青年\", \"是\", \"是\", \"一般\"],\n",
    "                      [\"青年\", \"否\", \"否\", \"一般\"],\n",
    "                      [\"中年\", \"否\", \"否\", \"一般\"],\n",
    "                      [\"中年\", \"否\", \"否\", \"好\"],\n",
    "                      [\"中年\", \"是\", \"是\", \"好\"],\n",
    "                      [\"中年\", \"否\", \"是\", \"非常好\"],\n",
    "                      [\"中年\", \"否\", \"是\", \"非常好\"],\n",
    "                      [\"老年\", \"否\", \"是\", \"非常好\"],\n",
    "                      [\"老年\", \"否\", \"是\", \"好\"],\n",
    "                      [\"老年\", \"是\", \"否\", \"好\"],\n",
    "                      [\"老年\", \"是\", \"否\", \"非常好\"],\n",
    "                      [\"老年\", \"否\", \"否\", \"一般\"]\n",
    "                      ])\n",
    "    y_train=np.array([\"否\",\"否\",\"是\", \"是\", \"否\", \"否\", \"否\", \"是\", \"是\", \"是\", \"是\", \"是\", \"是\", \"是\", \"否\"])\n",
    "    # 转换成pd.DataFrame模式\n",
    "    X_train = pd.DataFrame(X_train, columns=features)\n",
    "    y_train = pd.DataFrame(y_train)\n",
    "    # 训练\n",
    "    clf=DecisionTree(method=\"info_gain\")       # 选择信息增益\n",
    "    clf.fit(X_train,y_train,features.copy())\n",
    "    # 预测\n",
    "    X_new=np.array([[\"青年\", \"是\", \"否\", \"一般\"]])\n",
    "    X_new= pd.DataFrame(X_new, columns=features)\n",
    "    y_predict=clf.predict(X_new)\n",
    "    print(y_predict)\n",
    "    print(\"time:{:.4f}s\".format(time.time()-star))"
   ]
  },
  {
   "cell_type": "code",
   "execution_count": 10,
   "metadata": {},
   "outputs": [
    {
     "name": "stdout",
     "output_type": "stream",
     "text": [
      "是\n",
      "time:0.0633s\n"
     ]
    }
   ],
   "source": [
    "if __name__ == \"__main__\":\n",
    "    main()"
   ]
  }
 ],
 "metadata": {
  "kernelspec": {
   "display_name": "Python 3",
   "language": "python",
   "name": "python3"
  },
  "language_info": {
   "codemirror_mode": {
    "name": "ipython",
    "version": 3
   },
   "file_extension": ".py",
   "mimetype": "text/x-python",
   "name": "python",
   "nbconvert_exporter": "python",
   "pygments_lexer": "ipython3",
   "version": "3.6.8"
  }
 },
 "nbformat": 4,
 "nbformat_minor": 2
}

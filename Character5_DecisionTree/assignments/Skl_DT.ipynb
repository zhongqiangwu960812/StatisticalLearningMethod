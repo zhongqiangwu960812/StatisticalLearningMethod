{
 "cells": [
  {
   "cell_type": "markdown",
   "metadata": {},
   "source": [
    "## 调包实现决策树模型\n",
    "> 问题描述： 尝试调用sklearn.tree.DecisionTreeClassifier模块，训练数据集采用课本例题5.1的数据，判断是否应该批准下列人员的贷款申请\n",
    ">> A={青年，否，是，一般}<br>B={中年，是，否，好}<br>C={老年，否，是，一般}\n",
    "\n",
    "> 学习sklearn包里面的决策树模块以及一些数据预处理的知识"
   ]
  },
  {
   "cell_type": "markdown",
   "metadata": {},
   "source": [
    "## 1. 导入要用到的包"
   ]
  },
  {
   "cell_type": "code",
   "execution_count": 16,
   "metadata": {},
   "outputs": [],
   "source": [
    "import numpy as np\n",
    "import pandas as pd\n",
    "import time\n",
    "import os\n",
    "\n",
    "from sklearn.tree import DecisionTreeClassifier\n",
    "from sklearn import preprocessing\n",
    "from IPython.display import Image\n",
    "from sklearn import tree\n",
    "from PIL import Image\n",
    "import pydotplus\n",
    "\n",
    "os.environ[\"PATH\"] += os.pathsep + 'D:\\Software Installer\\graphviz-2.38\\release\\bin'       #注意修改你的路径"
   ]
  },
  {
   "cell_type": "markdown",
   "metadata": {},
   "source": [
    "## 2. 定义决策树可视化函数"
   ]
  },
  {
   "cell_type": "code",
   "execution_count": 19,
   "metadata": {},
   "outputs": [],
   "source": [
    "def show(clf, features, y_types):\n",
    "    \"\"\"决策树的可视化\"\"\"\n",
    "    \n",
    "    dot_data = tree.export_graphviz(clf, out_file=dot_data, feature_names=features, class_names=y_types, filled=True, rounded=True, special_characters=True)\n",
    "    \"\"\"上面这个函数，这个函数生成决策树的GraphViz表示，然后将其写入out_file\n",
    "        clf:  指的决策树模型\n",
    "        out_file: 输出文件的名称\n",
    "        feature_names:  特征标签名称\n",
    "        class_names: 类别标签\n",
    "        filled: 当设置为True时，绘制节点来表示用于分类的多数类、用于回归的极值或用于多输出的节点纯度。\n",
    "        rounded: 当设置为True时，绘制圆角节点框，并使用Helvetica字体而不是Times-Roman字体。\n",
    "        special_character: 当设置为False时，忽略用于PostScript兼容性的特殊字符。\n",
    "    \n",
    "    \"\"\"\n",
    "    graph = pydotplus.graph_from_dot_data(dot_data)\n",
    "    Image(graph.create_png())\n",
    "    graph.write_png('Dt_show.png')\n",
    "#     im = Image.open('Dt_show.png')\n",
    "#     im.show()"
   ]
  },
  {
   "cell_type": "markdown",
   "metadata": {},
   "source": [
    "## 3. 主函数\n",
    ">理一下思路： \n",
    ">> 1. 根据表构造数据集<br>\n",
    "2. 由于训练集中的特征都是字符串，所以这里需要一个数据预处理，转成数字表示<br>\n",
    "3. 调用sklearn包建立决策树模型<br>\n",
    "4. 用得到的模型在测试集上进行预测，输出结果<br>\n",
    "5. 可视化决策树模型"
   ]
  },
  {
   "cell_type": "code",
   "execution_count": 40,
   "metadata": {},
   "outputs": [],
   "source": [
    "def main():\n",
    "    start = time.time()\n",
    "    \n",
    "    # 原始数据样本\n",
    "    features = [\"age\", \"work\", \"house\", \"credit\"]\n",
    "    X_train=pd.DataFrame([\n",
    "                      [\"青年\", \"否\", \"否\", \"一般\"],\n",
    "                      [\"青年\", \"否\", \"否\", \"好\"],\n",
    "                      [\"青年\", \"是\", \"否\", \"好\"],\n",
    "                      [\"青年\", \"是\", \"是\", \"一般\"],\n",
    "                      [\"青年\", \"否\", \"否\", \"一般\"],\n",
    "                      [\"中年\", \"否\", \"否\", \"一般\"],\n",
    "                      [\"中年\", \"否\", \"否\", \"好\"],\n",
    "                      [\"中年\", \"是\", \"是\", \"好\"],\n",
    "                      [\"中年\", \"否\", \"是\", \"非常好\"],\n",
    "                      [\"中年\", \"否\", \"是\", \"非常好\"],\n",
    "                      [\"老年\", \"否\", \"是\", \"非常好\"],\n",
    "                      [\"老年\", \"否\", \"是\", \"好\"],\n",
    "                      [\"老年\", \"是\", \"否\", \"好\"],\n",
    "                      [\"老年\", \"是\", \"否\", \"非常好\"],\n",
    "                      [\"老年\", \"否\", \"否\", \"一般\"]\n",
    "                      ], columns = features)\n",
    "    y_train = pd.DataFrame([\"否\", \"否\", \"是\", \"是\", \"否\", \"否\", \"否\", \"是\", \"是\", \"是\", \"是\", \"是\", \"是\", \"是\", \"否\"])\n",
    "    X_test = pd.DataFrame([\n",
    "                      [\"青年\", \"否\", \"是\", \"一般\"],\n",
    "                      [\"中年\", \"是\", \"否\", \"好\"],\n",
    "                      [\"老年\", \"否\", \"否\", \"一般\"]     \n",
    "                      ], columns=features)\n",
    "    X_test1 = X_test.copy()\n",
    "     # 数据预处理\n",
    "    for k in X_train.columns: \n",
    "        le = preprocessing.LabelEncoder()\n",
    "        le.fit(np.unique(X_train[k]))\n",
    "        X_train[k] = le.transform(X_train[k])\n",
    "        X_test[k] = le.transform(X_test[k])\n",
    "   # print(data)\n",
    "    \n",
    "    le_y = preprocessing.LabelEncoder()\n",
    "    le_y.fit(y_train)\n",
    "    Y_train = le_y.transform(y_train)\n",
    "    \n",
    "#     print(X_train)\n",
    "#     print(Y_train)\n",
    "#     print(X_test)\n",
    "\n",
    "   # 调用sklearn.DT建立训练模型\n",
    "    clf=DecisionTreeClassifier()\n",
    "    clf.fit(X_train,y_train)\n",
    "    \n",
    "    # 测试集预测\n",
    "    y_predict=clf.predict(X_test.values)\n",
    "    \n",
    "    # 输出结果\n",
    "    for i in range(len(y_predict)):\n",
    "        print(X_test1.iloc[i], \"被分类为：\", y_predict[i], '\\n')\n",
    "    print(\"time:{:.4f}s\".format(time.time()-start))\n",
    "    \n",
    "    # 可视化决策树\n",
    "    show(clf,features,[str(k) for k in np.unique(y_train)])"
   ]
  },
  {
   "cell_type": "code",
   "execution_count": 42,
   "metadata": {
    "scrolled": false
   },
   "outputs": [
    {
     "name": "stderr",
     "output_type": "stream",
     "text": [
      "C:\\Users\\ZhongqiangWu\\Anaconda3\\envs\\tfenv\\lib\\site-packages\\sklearn\\preprocessing\\label.py:219: DataConversionWarning: A column-vector y was passed when a 1d array was expected. Please change the shape of y to (n_samples, ), for example using ravel().\n",
      "  y = column_or_1d(y, warn=True)\n",
      "C:\\Users\\ZhongqiangWu\\Anaconda3\\envs\\tfenv\\lib\\site-packages\\sklearn\\preprocessing\\label.py:252: DataConversionWarning: A column-vector y was passed when a 1d array was expected. Please change the shape of y to (n_samples, ), for example using ravel().\n",
      "  y = column_or_1d(y, warn=True)\n"
     ]
    },
    {
     "name": "stdout",
     "output_type": "stream",
     "text": [
      "age       青年\n",
      "work       否\n",
      "house      是\n",
      "credit    一般\n",
      "Name: 0, dtype: object 被分类为： 是 \n",
      "\n",
      "age       中年\n",
      "work       是\n",
      "house      否\n",
      "credit     好\n",
      "Name: 1, dtype: object 被分类为： 是 \n",
      "\n",
      "age       老年\n",
      "work       否\n",
      "house      否\n",
      "credit    一般\n",
      "Name: 2, dtype: object 被分类为： 否 \n",
      "\n",
      "time:0.0117s\n"
     ]
    }
   ],
   "source": [
    "if __name__ == \"__main__\":\n",
    "    main()"
   ]
  },
  {
   "cell_type": "markdown",
   "metadata": {},
   "source": [
    "## 4. 总结与回顾\n",
    "> (1)决策树模型的调包建立： clf = DecisionClassifier()<br>\n",
    ">(2)决策树模型的可视化和保存需要用到tree这个模块，用到了Graphviz这个可视化软件,可以查看官方文档https://scikit-learn.org/stable/modules/generated/sklearn.tree.export_graphviz.html<br>\n",
    ">(3)关于决策树模型的相关参数：  https://www.cnblogs.com/baby-lily/p/10646226.html<br>\n",
    "> (4)关于数据预处理： \n",
    ">> * 我上面用的方式，针对每一个特征进行的labelEncoder编码。 这样的写法需要写到一个for循环里面进行编码。 并且测试集要用训练集的LabelEncoder对象<br>\n",
    "* 当然还有种简单的方式，就是我下面列出来的这个编码方式。 是直接针对于X的所有特征进行一个编码， 不过我觉得理解起来可能比较麻烦，所以才单个特征进行编码的， 当然，最后结果都是一样的。"
   ]
  },
  {
   "cell_type": "code",
   "execution_count": null,
   "metadata": {
    "collapsed": true
   },
   "outputs": [],
   "source": [
    "X_train=pd.DataFrame([\n",
    "                      [\"青年\", \"否\", \"否\", \"一般\"],\n",
    "                      [\"青年\", \"否\", \"否\", \"好\"],\n",
    "                      [\"青年\", \"是\", \"否\", \"好\"],\n",
    "                      [\"青年\", \"是\", \"是\", \"一般\"],\n",
    "                      [\"青年\", \"否\", \"否\", \"一般\"],\n",
    "                      [\"中年\", \"否\", \"否\", \"一般\"],\n",
    "                      [\"中年\", \"否\", \"否\", \"好\"],\n",
    "                      [\"中年\", \"是\", \"是\", \"好\"],\n",
    "                      [\"中年\", \"否\", \"是\", \"非常好\"],\n",
    "                      [\"中年\", \"否\", \"是\", \"非常好\"],\n",
    "                      [\"老年\", \"否\", \"是\", \"非常好\"],\n",
    "                      [\"老年\", \"否\", \"是\", \"好\"],\n",
    "                      [\"老年\", \"是\", \"否\", \"好\"],\n",
    "                      [\"老年\", \"是\", \"否\", \"非常好\"],\n",
    "                      [\"老年\", \"否\", \"否\", \"一般\"]\n",
    "                      ])\n",
    "y_train = pd.DataFrame([\"否\", \"否\", \"是\", \"是\", \"否\", \"否\", \"否\", \"是\", \"是\", \"是\", \"是\", \"是\", \"是\", \"是\", \"否\"])\n",
    "# 数据预处理\n",
    "le_x=preprocessing.LabelEncoder()\n",
    "le_x.fit(np.unique(X_train))\n",
    "X_train=X_train.apply(le_x.transform)\n",
    "\n",
    "le_y=preprocessing.LabelEncoder()\n",
    "le_y.fit(np.unique(y_train))\n",
    "y_train=y_train.apply(le_y.transform)\n",
    "    \n",
    "# 调用sklearn.DT建立训练模型\n",
    "clf=DecisionTreeClassifier()\n",
    "clf.fit(X_train,y_train)\n",
    "\n",
    "# 用训练得到模型进行预测\n",
    "X_new=pd.DataFrame([[\"青年\", \"否\", \"是\", \"一般\"],[\"老年\", \"是\", \"否\", \"非常好\"], [\"老年\", \"否\", \"否\", \"一般\"] ])\n",
    "X=X_new.apply(le_x.transform)\n",
    "   \n",
    "y_predict=clf.predict(X)\n",
    "    \n",
    "# 结果输出\n",
    "X_show=[{features[i]:X_new.values[0][i]} for i in range(len(features))]\n",
    "print(\"{0}被分类为:{1}\".format(X_show,le_y.inverse_transform(y_predict)))"
   ]
  }
 ],
 "metadata": {
  "kernelspec": {
   "display_name": "Python 3",
   "language": "python",
   "name": "python3"
  },
  "language_info": {
   "codemirror_mode": {
    "name": "ipython",
    "version": 3
   },
   "file_extension": ".py",
   "mimetype": "text/x-python",
   "name": "python",
   "nbconvert_exporter": "python",
   "pygments_lexer": "ipython3",
   "version": "3.6.8"
  }
 },
 "nbformat": 4,
 "nbformat_minor": 2
}
